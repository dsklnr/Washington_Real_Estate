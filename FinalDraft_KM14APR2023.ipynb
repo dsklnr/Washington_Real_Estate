{
  "nbformat": 4,
  "nbformat_minor": 0,
  "metadata": {
    "colab": {
      "provenance": [],
      "mount_file_id": "1Sj4wBzlLPa75XmQUrJByG52ofuvi5DQc",
      "authorship_tag": "ABX9TyMk6v54vmmKHJCu85H9Hyub",
      "include_colab_link": true
    },
    "kernelspec": {
      "name": "python3",
      "display_name": "Python 3"
    },
    "language_info": {
      "name": "python"
    }
  },
  "cells": [
    {
      "cell_type": "markdown",
      "metadata": {
        "id": "view-in-github",
        "colab_type": "text"
      },
      "source": [
        "<a href=\"https://colab.research.google.com/github/dsklnr/Washington_Real_Estate/blob/Katie_Mears_Branch/FinalDraft_KM14APR2023.ipynb\" target=\"_parent\"><img src=\"https://colab.research.google.com/assets/colab-badge.svg\" alt=\"Open In Colab\"/></a>"
      ]
    },
    {
      "cell_type": "markdown",
      "source": [
        "**Group # 5 -\n",
        "Benjamin Ogle, Marvin Moran, and Katie Mears**\n",
        "\n",
        "# Libraries"
      ],
      "metadata": {
        "id": "dUHNQwRYVMyR"
      }
    },
    {
      "cell_type": "code",
      "execution_count": null,
      "metadata": {
        "id": "Kfy2vzKwEBpf"
      },
      "outputs": [],
      "source": [
        "\n",
        "# Import the Pandas Library to load the data set \n",
        "\n",
        "import pandas as pd\n",
        "\n",
        "# Import MinMaxScaler for Normalization \n",
        "\n",
        "from sklearn.preprocessing import MinMaxScaler, StandardScaler\n",
        "\n",
        "# Import matplotlib For plots: \n",
        "\n",
        "import matplotlib.pyplot as plt"
      ]
    },
    {
      "cell_type": "code",
      "source": [
        "import os \n",
        "os.getcwd()"
      ],
      "metadata": {
        "colab": {
          "base_uri": "https://localhost:8080/",
          "height": 35
        },
        "id": "Gb8BelWfH3-D",
        "outputId": "532337b2-c53c-4192-a34b-2ad5d6e80a43"
      },
      "execution_count": null,
      "outputs": [
        {
          "output_type": "execute_result",
          "data": {
            "text/plain": [
              "'/content'"
            ],
            "application/vnd.google.colaboratory.intrinsic+json": {
              "type": "string"
            }
          },
          "metadata": {},
          "execution_count": 24
        }
      ]
    },
    {
      "cell_type": "markdown",
      "source": [
        "Part I: Data Importing and Pre-processing:"
      ],
      "metadata": {
        "id": "4fB6ivwOHW5r"
      }
    },
    {
      "cell_type": "code",
      "source": [
        "#import dataset as dataframe called salesdata using pandas commands\n",
        "\n",
        "salesdata = pd.read_csv(\"/content/drive/MyDrive/house_sales.csv\")\n",
        "print(salesdata.head())"
      ],
      "metadata": {
        "colab": {
          "base_uri": "https://localhost:8080/"
        },
        "id": "LsveBJUuHiYZ",
        "outputId": "bbcc37b5-fe1f-489d-a772-c8000611f528"
      },
      "execution_count": null,
      "outputs": [
        {
          "output_type": "stream",
          "name": "stdout",
          "text": [
            "           id             date     price  bedrooms  bathrooms  sqft_living  \\\n",
            "0  7129300520  20141013T000000  221900.0       3.0       1.00       1180.0   \n",
            "1  6414100192  20141209T000000  538000.0       3.0       2.25       2570.0   \n",
            "2  5631500400  20150225T000000  180000.0       2.0       1.00        770.0   \n",
            "3  2487200875  20141209T000000  604000.0       4.0       3.00       1960.0   \n",
            "4  1954400510  20150218T000000  510000.0       3.0       2.00       1680.0   \n",
            "\n",
            "   sqft_lot  floors  waterfront  view  ...  grade  sqft_above  sqft_basement  \\\n",
            "0    5650.0     1.0           0     0  ...      7        1180              0   \n",
            "1    7242.0     2.0           0     0  ...      7        2170            400   \n",
            "2   10000.0     1.0           0     0  ...      6         770              0   \n",
            "3    5000.0     1.0           0     0  ...      7        1050            910   \n",
            "4    8080.0     1.0           0     0  ...      8        1680              0   \n",
            "\n",
            "   yr_built  yr_renovated  zipcode      lat     long  sqft_living15  \\\n",
            "0      1955             0    98178  47.5112 -122.257           1340   \n",
            "1      1951          1991    98125  47.7210 -122.319           1690   \n",
            "2      1933             0    98028  47.7379 -122.233           2720   \n",
            "3      1965             0    98136  47.5208 -122.393           1360   \n",
            "4      1987             0    98074  47.6168 -122.045           1800   \n",
            "\n",
            "   sqft_lot15  \n",
            "0        5650  \n",
            "1        7639  \n",
            "2        8062  \n",
            "3        5000  \n",
            "4        7503  \n",
            "\n",
            "[5 rows x 21 columns]\n"
          ]
        }
      ]
    },
    {
      "cell_type": "code",
      "source": [
        "# Print the dimensions of the dataset\n",
        "\n",
        "print(\"Dimensions:\", salesdata.shape)"
      ],
      "metadata": {
        "colab": {
          "base_uri": "https://localhost:8080/"
        },
        "id": "aFyz48tXJb3h",
        "outputId": "3f04d2ed-9190-4140-ca6d-e7b58ebd747c"
      },
      "execution_count": null,
      "outputs": [
        {
          "output_type": "stream",
          "name": "stdout",
          "text": [
            "Dimensions: (21613, 21)\n"
          ]
        }
      ]
    },
    {
      "cell_type": "code",
      "source": [
        "# Print the data types of each column\n",
        "\n",
        "print(\"Data types:\", salesdata.dtypes)"
      ],
      "metadata": {
        "colab": {
          "base_uri": "https://localhost:8080/"
        },
        "id": "gZpAPqi-JhZE",
        "outputId": "12fac83f-af4d-46a3-979b-d2a39deb2c69"
      },
      "execution_count": null,
      "outputs": [
        {
          "output_type": "stream",
          "name": "stdout",
          "text": [
            "Data types: id                 int64\n",
            "date              object\n",
            "price            float64\n",
            "bedrooms         float64\n",
            "bathrooms        float64\n",
            "sqft_living      float64\n",
            "sqft_lot         float64\n",
            "floors           float64\n",
            "waterfront         int64\n",
            "view               int64\n",
            "condition          int64\n",
            "grade              int64\n",
            "sqft_above         int64\n",
            "sqft_basement      int64\n",
            "yr_built           int64\n",
            "yr_renovated       int64\n",
            "zipcode            int64\n",
            "lat              float64\n",
            "long             float64\n",
            "sqft_living15      int64\n",
            "sqft_lot15         int64\n",
            "dtype: object\n"
          ]
        }
      ]
    },
    {
      "cell_type": "code",
      "source": [
        "# Print the file type of the dataset = Pandas Dataframe \n",
        "\n",
        "print(\"File type:\", type(salesdata))"
      ],
      "metadata": {
        "colab": {
          "base_uri": "https://localhost:8080/"
        },
        "id": "Wb6108pQJhkC",
        "outputId": "f339d122-bb2e-4166-de32-a1179421d933"
      },
      "execution_count": null,
      "outputs": [
        {
          "output_type": "stream",
          "name": "stdout",
          "text": [
            "File type: <class 'pandas.core.frame.DataFrame'>\n"
          ]
        }
      ]
    },
    {
      "cell_type": "code",
      "source": [
        "# Print the import method used\n",
        "\n",
        "print(\"Import method:\", \"pd.read_csv(/content/drive/MyDrive/house_sales.csv)\")"
      ],
      "metadata": {
        "colab": {
          "base_uri": "https://localhost:8080/"
        },
        "id": "OuJIod72Jhva",
        "outputId": "819eef78-d4e6-447b-ab63-fd4c894bcae2"
      },
      "execution_count": null,
      "outputs": [
        {
          "output_type": "stream",
          "name": "stdout",
          "text": [
            "Import method: pd.read_csv(/content/drive/MyDrive/house_sales.csv)\n"
          ]
        }
      ]
    },
    {
      "cell_type": "markdown",
      "source": [
        "\n",
        "Part II: Clean, Wrangle and handle missing data: \n"
      ],
      "metadata": {
        "id": "oi4o94VkKhkA"
      }
    },
    {
      "cell_type": "code",
      "source": [
        "# Get info on salesdata dataframe\n",
        "\n",
        "salesdata.info()"
      ],
      "metadata": {
        "colab": {
          "base_uri": "https://localhost:8080/"
        },
        "id": "wFeIiFFSJiB7",
        "outputId": "b506c746-7c3d-409a-fe20-03550e8f92f8"
      },
      "execution_count": null,
      "outputs": [
        {
          "output_type": "stream",
          "name": "stdout",
          "text": [
            "<class 'pandas.core.frame.DataFrame'>\n",
            "RangeIndex: 21613 entries, 0 to 21612\n",
            "Data columns (total 21 columns):\n",
            " #   Column         Non-Null Count  Dtype  \n",
            "---  ------         --------------  -----  \n",
            " 0   id             21613 non-null  int64  \n",
            " 1   date           21613 non-null  object \n",
            " 2   price          21613 non-null  float64\n",
            " 3   bedrooms       20479 non-null  float64\n",
            " 4   bathrooms      20545 non-null  float64\n",
            " 5   sqft_living    20503 non-null  float64\n",
            " 6   sqft_lot       20569 non-null  float64\n",
            " 7   floors         21613 non-null  float64\n",
            " 8   waterfront     21613 non-null  int64  \n",
            " 9   view           21613 non-null  int64  \n",
            " 10  condition      21613 non-null  int64  \n",
            " 11  grade          21613 non-null  int64  \n",
            " 12  sqft_above     21613 non-null  int64  \n",
            " 13  sqft_basement  21613 non-null  int64  \n",
            " 14  yr_built       21613 non-null  int64  \n",
            " 15  yr_renovated   21613 non-null  int64  \n",
            " 16  zipcode        21613 non-null  int64  \n",
            " 17  lat            21613 non-null  float64\n",
            " 18  long           21613 non-null  float64\n",
            " 19  sqft_living15  21613 non-null  int64  \n",
            " 20  sqft_lot15     21613 non-null  int64  \n",
            "dtypes: float64(8), int64(12), object(1)\n",
            "memory usage: 3.5+ MB\n"
          ]
        }
      ]
    },
    {
      "cell_type": "code",
      "source": [
        "# Determine Null Values within salesdata by column  \n",
        "\n",
        "missing_values = salesdata.isna().sum()\n",
        "print(missing_values)"
      ],
      "metadata": {
        "colab": {
          "base_uri": "https://localhost:8080/"
        },
        "id": "rTdVuCduJiNo",
        "outputId": "d439caba-22a5-499d-fd2b-d7eee020a844"
      },
      "execution_count": null,
      "outputs": [
        {
          "output_type": "stream",
          "name": "stdout",
          "text": [
            "id                  0\n",
            "date                0\n",
            "price               0\n",
            "bedrooms         1134\n",
            "bathrooms        1068\n",
            "sqft_living      1110\n",
            "sqft_lot         1044\n",
            "floors              0\n",
            "waterfront          0\n",
            "view                0\n",
            "condition           0\n",
            "grade               0\n",
            "sqft_above          0\n",
            "sqft_basement       0\n",
            "yr_built            0\n",
            "yr_renovated        0\n",
            "zipcode             0\n",
            "lat                 0\n",
            "long                0\n",
            "sqft_living15       0\n",
            "sqft_lot15          0\n",
            "dtype: int64\n"
          ]
        }
      ]
    },
    {
      "cell_type": "code",
      "source": [
        "# Total null datapoints \n",
        "\n",
        "num_missing = salesdata.isna().sum().sum()\n",
        "print(num_missing)"
      ],
      "metadata": {
        "colab": {
          "base_uri": "https://localhost:8080/"
        },
        "id": "jBEKvBTmJiT-",
        "outputId": "62e97a64-dabe-4836-fdd6-bf1fd40e0652"
      },
      "execution_count": null,
      "outputs": [
        {
          "output_type": "stream",
          "name": "stdout",
          "text": [
            "4356\n"
          ]
        }
      ]
    },
    {
      "cell_type": "code",
      "source": [
        "# Calculate total missing data (%) \n",
        "\n",
        "percentage = (num_missing / 21613) * 100\n",
        "rounded_pct = round(percentage, 2)\n",
        "print(rounded_pct)"
      ],
      "metadata": {
        "colab": {
          "base_uri": "https://localhost:8080/"
        },
        "id": "vn3ZT1orJiYz",
        "outputId": "c74418a6-34a4-4115-f94c-8b3da79a8d19"
      },
      "execution_count": null,
      "outputs": [
        {
          "output_type": "stream",
          "name": "stdout",
          "text": [
            "20.15\n"
          ]
        }
      ]
    },
    {
      "cell_type": "code",
      "source": [
        "# Removing Null data by Row\n",
        "\n",
        "data_clean = salesdata.dropna()\n",
        "print(data_clean)"
      ],
      "metadata": {
        "colab": {
          "base_uri": "https://localhost:8080/"
        },
        "id": "UXsl3rLaK6o7",
        "outputId": "cbf12fb1-9184-4d1e-af88-bc7dad6813d3"
      },
      "execution_count": null,
      "outputs": [
        {
          "output_type": "stream",
          "name": "stdout",
          "text": [
            "               id             date     price  bedrooms  bathrooms  \\\n",
            "0      7129300520  20141013T000000  221900.0       3.0       1.00   \n",
            "1      6414100192  20141209T000000  538000.0       3.0       2.25   \n",
            "2      5631500400  20150225T000000  180000.0       2.0       1.00   \n",
            "3      2487200875  20141209T000000  604000.0       4.0       3.00   \n",
            "4      1954400510  20150218T000000  510000.0       3.0       2.00   \n",
            "...           ...              ...       ...       ...        ...   \n",
            "21608   263000018  20140521T000000  360000.0       3.0       2.50   \n",
            "21609  6600060120  20150223T000000  400000.0       4.0       2.50   \n",
            "21610  1523300141  20140623T000000  402101.0       2.0       0.75   \n",
            "21611   291310100  20150116T000000  400000.0       3.0       2.50   \n",
            "21612  1523300157  20141015T000000  325000.0       2.0       0.75   \n",
            "\n",
            "       sqft_living  sqft_lot  floors  waterfront  view  ...  grade  \\\n",
            "0           1180.0    5650.0     1.0           0     0  ...      7   \n",
            "1           2570.0    7242.0     2.0           0     0  ...      7   \n",
            "2            770.0   10000.0     1.0           0     0  ...      6   \n",
            "3           1960.0    5000.0     1.0           0     0  ...      7   \n",
            "4           1680.0    8080.0     1.0           0     0  ...      8   \n",
            "...            ...       ...     ...         ...   ...  ...    ...   \n",
            "21608       1530.0    1131.0     3.0           0     0  ...      8   \n",
            "21609       2310.0    5813.0     2.0           0     0  ...      8   \n",
            "21610       1020.0    1350.0     2.0           0     0  ...      7   \n",
            "21611       1600.0    2388.0     2.0           0     0  ...      8   \n",
            "21612       1020.0    1076.0     2.0           0     0  ...      7   \n",
            "\n",
            "       sqft_above  sqft_basement  yr_built  yr_renovated  zipcode      lat  \\\n",
            "0            1180              0      1955             0    98178  47.5112   \n",
            "1            2170            400      1951          1991    98125  47.7210   \n",
            "2             770              0      1933             0    98028  47.7379   \n",
            "3            1050            910      1965             0    98136  47.5208   \n",
            "4            1680              0      1987             0    98074  47.6168   \n",
            "...           ...            ...       ...           ...      ...      ...   \n",
            "21608        1530              0      2009             0    98103  47.6993   \n",
            "21609        2310              0      2014             0    98146  47.5107   \n",
            "21610        1020              0      2009             0    98144  47.5944   \n",
            "21611        1600              0      2004             0    98027  47.5345   \n",
            "21612        1020              0      2008             0    98144  47.5941   \n",
            "\n",
            "          long  sqft_living15  sqft_lot15  \n",
            "0     -122.257           1340        5650  \n",
            "1     -122.319           1690        7639  \n",
            "2     -122.233           2720        8062  \n",
            "3     -122.393           1360        5000  \n",
            "4     -122.045           1800        7503  \n",
            "...        ...            ...         ...  \n",
            "21608 -122.346           1530        1509  \n",
            "21609 -122.362           1830        7200  \n",
            "21610 -122.299           1020        2007  \n",
            "21611 -122.069           1410        1287  \n",
            "21612 -122.299           1020        1357  \n",
            "\n",
            "[17618 rows x 21 columns]\n"
          ]
        }
      ]
    },
    {
      "cell_type": "code",
      "source": [
        "# Remove duplicates\n",
        "\n",
        "data_clean2 = data_clean.drop_duplicates()\n",
        "print(data_clean2)"
      ],
      "metadata": {
        "colab": {
          "base_uri": "https://localhost:8080/"
        },
        "id": "pXa4DbSOK6r1",
        "outputId": "c9c078d7-cff3-4b2f-cc55-4a6ae61cd835"
      },
      "execution_count": null,
      "outputs": [
        {
          "output_type": "stream",
          "name": "stdout",
          "text": [
            "               id             date     price  bedrooms  bathrooms  \\\n",
            "0      7129300520  20141013T000000  221900.0       3.0       1.00   \n",
            "1      6414100192  20141209T000000  538000.0       3.0       2.25   \n",
            "2      5631500400  20150225T000000  180000.0       2.0       1.00   \n",
            "3      2487200875  20141209T000000  604000.0       4.0       3.00   \n",
            "4      1954400510  20150218T000000  510000.0       3.0       2.00   \n",
            "...           ...              ...       ...       ...        ...   \n",
            "21608   263000018  20140521T000000  360000.0       3.0       2.50   \n",
            "21609  6600060120  20150223T000000  400000.0       4.0       2.50   \n",
            "21610  1523300141  20140623T000000  402101.0       2.0       0.75   \n",
            "21611   291310100  20150116T000000  400000.0       3.0       2.50   \n",
            "21612  1523300157  20141015T000000  325000.0       2.0       0.75   \n",
            "\n",
            "       sqft_living  sqft_lot  floors  waterfront  view  ...  grade  \\\n",
            "0           1180.0    5650.0     1.0           0     0  ...      7   \n",
            "1           2570.0    7242.0     2.0           0     0  ...      7   \n",
            "2            770.0   10000.0     1.0           0     0  ...      6   \n",
            "3           1960.0    5000.0     1.0           0     0  ...      7   \n",
            "4           1680.0    8080.0     1.0           0     0  ...      8   \n",
            "...            ...       ...     ...         ...   ...  ...    ...   \n",
            "21608       1530.0    1131.0     3.0           0     0  ...      8   \n",
            "21609       2310.0    5813.0     2.0           0     0  ...      8   \n",
            "21610       1020.0    1350.0     2.0           0     0  ...      7   \n",
            "21611       1600.0    2388.0     2.0           0     0  ...      8   \n",
            "21612       1020.0    1076.0     2.0           0     0  ...      7   \n",
            "\n",
            "       sqft_above  sqft_basement  yr_built  yr_renovated  zipcode      lat  \\\n",
            "0            1180              0      1955             0    98178  47.5112   \n",
            "1            2170            400      1951          1991    98125  47.7210   \n",
            "2             770              0      1933             0    98028  47.7379   \n",
            "3            1050            910      1965             0    98136  47.5208   \n",
            "4            1680              0      1987             0    98074  47.6168   \n",
            "...           ...            ...       ...           ...      ...      ...   \n",
            "21608        1530              0      2009             0    98103  47.6993   \n",
            "21609        2310              0      2014             0    98146  47.5107   \n",
            "21610        1020              0      2009             0    98144  47.5944   \n",
            "21611        1600              0      2004             0    98027  47.5345   \n",
            "21612        1020              0      2008             0    98144  47.5941   \n",
            "\n",
            "          long  sqft_living15  sqft_lot15  \n",
            "0     -122.257           1340        5650  \n",
            "1     -122.319           1690        7639  \n",
            "2     -122.233           2720        8062  \n",
            "3     -122.393           1360        5000  \n",
            "4     -122.045           1800        7503  \n",
            "...        ...            ...         ...  \n",
            "21608 -122.346           1530        1509  \n",
            "21609 -122.362           1830        7200  \n",
            "21610 -122.299           1020        2007  \n",
            "21611 -122.069           1410        1287  \n",
            "21612 -122.299           1020        1357  \n",
            "\n",
            "[17618 rows x 21 columns]\n"
          ]
        }
      ]
    },
    {
      "cell_type": "code",
      "source": [
        "# Drop the columns \"id\" and \"date\" as they're not significant to the analysis and preventing correlation matrix to run \n",
        "\n",
        "droppedID = data_clean2.drop([\"id\", \"date\"], axis=1)\n",
        "print(droppedID)"
      ],
      "metadata": {
        "colab": {
          "base_uri": "https://localhost:8080/"
        },
        "id": "fu7veVopK6u5",
        "outputId": "35f83343-b296-42ff-a9e4-e78e935e238a"
      },
      "execution_count": null,
      "outputs": [
        {
          "output_type": "stream",
          "name": "stdout",
          "text": [
            "          price  bedrooms  bathrooms  sqft_living  sqft_lot  floors  \\\n",
            "0      221900.0       3.0       1.00       1180.0    5650.0     1.0   \n",
            "1      538000.0       3.0       2.25       2570.0    7242.0     2.0   \n",
            "2      180000.0       2.0       1.00        770.0   10000.0     1.0   \n",
            "3      604000.0       4.0       3.00       1960.0    5000.0     1.0   \n",
            "4      510000.0       3.0       2.00       1680.0    8080.0     1.0   \n",
            "...         ...       ...        ...          ...       ...     ...   \n",
            "21608  360000.0       3.0       2.50       1530.0    1131.0     3.0   \n",
            "21609  400000.0       4.0       2.50       2310.0    5813.0     2.0   \n",
            "21610  402101.0       2.0       0.75       1020.0    1350.0     2.0   \n",
            "21611  400000.0       3.0       2.50       1600.0    2388.0     2.0   \n",
            "21612  325000.0       2.0       0.75       1020.0    1076.0     2.0   \n",
            "\n",
            "       waterfront  view  condition  grade  sqft_above  sqft_basement  \\\n",
            "0               0     0          3      7        1180              0   \n",
            "1               0     0          3      7        2170            400   \n",
            "2               0     0          3      6         770              0   \n",
            "3               0     0          5      7        1050            910   \n",
            "4               0     0          3      8        1680              0   \n",
            "...           ...   ...        ...    ...         ...            ...   \n",
            "21608           0     0          3      8        1530              0   \n",
            "21609           0     0          3      8        2310              0   \n",
            "21610           0     0          3      7        1020              0   \n",
            "21611           0     0          3      8        1600              0   \n",
            "21612           0     0          3      7        1020              0   \n",
            "\n",
            "       yr_built  yr_renovated  zipcode      lat     long  sqft_living15  \\\n",
            "0          1955             0    98178  47.5112 -122.257           1340   \n",
            "1          1951          1991    98125  47.7210 -122.319           1690   \n",
            "2          1933             0    98028  47.7379 -122.233           2720   \n",
            "3          1965             0    98136  47.5208 -122.393           1360   \n",
            "4          1987             0    98074  47.6168 -122.045           1800   \n",
            "...         ...           ...      ...      ...      ...            ...   \n",
            "21608      2009             0    98103  47.6993 -122.346           1530   \n",
            "21609      2014             0    98146  47.5107 -122.362           1830   \n",
            "21610      2009             0    98144  47.5944 -122.299           1020   \n",
            "21611      2004             0    98027  47.5345 -122.069           1410   \n",
            "21612      2008             0    98144  47.5941 -122.299           1020   \n",
            "\n",
            "       sqft_lot15  \n",
            "0            5650  \n",
            "1            7639  \n",
            "2            8062  \n",
            "3            5000  \n",
            "4            7503  \n",
            "...           ...  \n",
            "21608        1509  \n",
            "21609        7200  \n",
            "21610        2007  \n",
            "21611        1287  \n",
            "21612        1357  \n",
            "\n",
            "[17618 rows x 19 columns]\n"
          ]
        }
      ]
    },
    {
      "cell_type": "code",
      "source": [
        "# Calculate correlation matrix for all remaining variables (less id and date)\n",
        "\n",
        "corr_matrix = droppedID.corr()\n",
        "print(\"Correlation matrix:\")\n",
        "print(corr_matrix)"
      ],
      "metadata": {
        "colab": {
          "base_uri": "https://localhost:8080/"
        },
        "id": "is92xM5aK6yB",
        "outputId": "dd67c713-c39a-488c-e4dd-af6b6bf0e451"
      },
      "execution_count": null,
      "outputs": [
        {
          "output_type": "stream",
          "name": "stdout",
          "text": [
            "Correlation matrix:\n",
            "                  price  bedrooms  bathrooms  sqft_living  sqft_lot    floors  \\\n",
            "price          1.000000  0.308095   0.528322     0.705356  0.088484  0.260248   \n",
            "bedrooms       0.308095  1.000000   0.514256     0.573338  0.030226  0.179843   \n",
            "bathrooms      0.528322  0.514256   1.000000     0.755995  0.084713  0.503446   \n",
            "sqft_living    0.705356  0.573338   0.755995     1.000000  0.165686  0.360198   \n",
            "sqft_lot       0.088484  0.030226   0.084713     0.165686  1.000000 -0.001168   \n",
            "floors         0.260248  0.179843   0.503446     0.360198 -0.001168  1.000000   \n",
            "waterfront     0.283986 -0.001646   0.068368     0.114123  0.023793  0.024203   \n",
            "view           0.404474  0.082227   0.185297     0.285908  0.069133  0.029629   \n",
            "condition      0.033073  0.026811  -0.124877    -0.059621 -0.010947 -0.261784   \n",
            "grade          0.670242  0.356103   0.668163     0.765616  0.108425  0.464855   \n",
            "sqft_above     0.607853  0.474428   0.687308     0.876517  0.177583  0.531144   \n",
            "sqft_basement  0.324357  0.300471   0.280550     0.432221  0.010999 -0.247877   \n",
            "yr_built       0.054736  0.157933   0.506600     0.320739  0.052603  0.489959   \n",
            "yr_renovated   0.127612  0.020326   0.053845     0.057723  0.006471  0.007423   \n",
            "zipcode       -0.052410 -0.154867  -0.208276    -0.199072 -0.128649 -0.070215   \n",
            "lat            0.308308 -0.009570   0.027789     0.054735 -0.081231  0.046463   \n",
            "long           0.022692  0.130311   0.226940     0.238507  0.225905  0.137463   \n",
            "sqft_living15  0.589529  0.390485   0.571415     0.757712  0.141718  0.287387   \n",
            "sqft_lot15     0.082180  0.030208   0.086979     0.181731  0.722983 -0.006423   \n",
            "\n",
            "               waterfront      view  condition     grade  sqft_above  \\\n",
            "price            0.283986  0.404474   0.033073  0.670242    0.607853   \n",
            "bedrooms        -0.001646  0.082227   0.026811  0.356103    0.474428   \n",
            "bathrooms        0.068368  0.185297  -0.124877  0.668163    0.687308   \n",
            "sqft_living      0.114123  0.285908  -0.059621  0.765616    0.876517   \n",
            "sqft_lot         0.023793  0.069133  -0.010947  0.108425    0.177583   \n",
            "floors           0.024203  0.029629  -0.261784  0.464855    0.531144   \n",
            "waterfront       1.000000  0.405368   0.013488  0.088847    0.081419   \n",
            "view             0.405368  1.000000   0.045391  0.252629    0.166125   \n",
            "condition        0.013488  0.045391   1.000000 -0.147850   -0.160137   \n",
            "grade            0.088847  0.252629  -0.147850  1.000000    0.759375   \n",
            "sqft_above       0.081419  0.166125  -0.160137  0.759375    1.000000   \n",
            "sqft_basement    0.084192  0.281830   0.176321  0.165500   -0.055237   \n",
            "yr_built        -0.025527 -0.056664  -0.363592  0.449694    0.427351   \n",
            "yr_renovated     0.083507  0.097742  -0.060911  0.013895    0.025202   \n",
            "zipcode          0.030524  0.086963   0.007954 -0.189627   -0.264218   \n",
            "lat             -0.012295  0.015031  -0.015546  0.117038    0.002386   \n",
            "long            -0.041641 -0.084951  -0.110318  0.200737    0.345024   \n",
            "sqft_living15    0.092731  0.286076  -0.094860  0.716000    0.731507   \n",
            "sqft_lot15       0.029557  0.064343  -0.004689  0.119237    0.193482   \n",
            "\n",
            "               sqft_basement  yr_built  yr_renovated   zipcode       lat  \\\n",
            "price               0.324357  0.054736      0.127612 -0.052410  0.308308   \n",
            "bedrooms            0.300471  0.157933      0.020326 -0.154867 -0.009570   \n",
            "bathrooms           0.280550  0.506600      0.053845 -0.208276  0.027789   \n",
            "sqft_living         0.432221  0.320739      0.057723 -0.199072  0.054735   \n",
            "sqft_lot            0.010999  0.052603      0.006471 -0.128649 -0.081231   \n",
            "floors             -0.247877  0.489959      0.007423 -0.070215  0.046463   \n",
            "waterfront          0.084192 -0.025527      0.083507  0.030524 -0.012295   \n",
            "view                0.281830 -0.056664      0.097742  0.086963  0.015031   \n",
            "condition           0.176321 -0.363592     -0.060911  0.007954 -0.015546   \n",
            "grade               0.165500  0.449694      0.013895 -0.189627  0.117038   \n",
            "sqft_above         -0.055237  0.427351      0.025202 -0.264218  0.002386   \n",
            "sqft_basement       1.000000 -0.135284      0.072520  0.082047  0.109062   \n",
            "yr_built           -0.135284  1.000000     -0.224884 -0.353900 -0.151532   \n",
            "yr_renovated        0.072520 -0.224884      1.000000  0.067461  0.033151   \n",
            "zipcode             0.082047 -0.353900      0.067461  1.000000  0.264379   \n",
            "lat                 0.109062 -0.151532      0.033151  0.264379  1.000000   \n",
            "long               -0.151625  0.416464     -0.071759 -0.565201 -0.132132   \n",
            "sqft_living15       0.201312  0.325531     -0.002367 -0.277805  0.052262   \n",
            "sqft_lot15          0.014495  0.073411      0.001985 -0.146888 -0.080028   \n",
            "\n",
            "                   long  sqft_living15  sqft_lot15  \n",
            "price          0.022692       0.589529    0.082180  \n",
            "bedrooms       0.130311       0.390485    0.030208  \n",
            "bathrooms      0.226940       0.571415    0.086979  \n",
            "sqft_living    0.238507       0.757712    0.181731  \n",
            "sqft_lot       0.225905       0.141718    0.722983  \n",
            "floors         0.137463       0.287387   -0.006423  \n",
            "waterfront    -0.041641       0.092731    0.029557  \n",
            "view          -0.084951       0.286076    0.064343  \n",
            "condition     -0.110318      -0.094860   -0.004689  \n",
            "grade          0.200737       0.716000    0.119237  \n",
            "sqft_above     0.345024       0.731507    0.193482  \n",
            "sqft_basement -0.151625       0.201312    0.014495  \n",
            "yr_built       0.416464       0.325531    0.073411  \n",
            "yr_renovated  -0.071759      -0.002367    0.001985  \n",
            "zipcode       -0.565201      -0.277805   -0.146888  \n",
            "lat           -0.132132       0.052262   -0.080028  \n",
            "long           1.000000       0.329559    0.258203  \n",
            "sqft_living15  0.329559       1.000000    0.183964  \n",
            "sqft_lot15     0.258203       0.183964    1.000000  \n"
          ]
        }
      ]
    },
    {
      "cell_type": "code",
      "source": [
        "# Filter the correlation matrix to show only values greater than 0.7\n",
        "high_corr = corr_matrix[abs(corr_matrix) > 0.7]\n",
        "\n",
        "# Print the columns with high correlation\n",
        "print(high_corr.dropna(how='all', axis=1).dropna(how='all', axis=0))"
      ],
      "metadata": {
        "colab": {
          "base_uri": "https://localhost:8080/"
        },
        "id": "S1x2OV7LK60x",
        "outputId": "f414ab69-3bd8-4f48-f0bd-a41cf0b620c8"
      },
      "execution_count": null,
      "outputs": [
        {
          "output_type": "stream",
          "name": "stdout",
          "text": [
            "                  price  bedrooms  bathrooms  sqft_living  sqft_lot  floors  \\\n",
            "price          1.000000       NaN        NaN     0.705356       NaN     NaN   \n",
            "bedrooms            NaN       1.0        NaN          NaN       NaN     NaN   \n",
            "bathrooms           NaN       NaN   1.000000     0.755995       NaN     NaN   \n",
            "sqft_living    0.705356       NaN   0.755995     1.000000       NaN     NaN   \n",
            "sqft_lot            NaN       NaN        NaN          NaN  1.000000     NaN   \n",
            "floors              NaN       NaN        NaN          NaN       NaN     1.0   \n",
            "waterfront          NaN       NaN        NaN          NaN       NaN     NaN   \n",
            "view                NaN       NaN        NaN          NaN       NaN     NaN   \n",
            "condition           NaN       NaN        NaN          NaN       NaN     NaN   \n",
            "grade               NaN       NaN        NaN     0.765616       NaN     NaN   \n",
            "sqft_above          NaN       NaN        NaN     0.876517       NaN     NaN   \n",
            "sqft_basement       NaN       NaN        NaN          NaN       NaN     NaN   \n",
            "yr_built            NaN       NaN        NaN          NaN       NaN     NaN   \n",
            "yr_renovated        NaN       NaN        NaN          NaN       NaN     NaN   \n",
            "zipcode             NaN       NaN        NaN          NaN       NaN     NaN   \n",
            "lat                 NaN       NaN        NaN          NaN       NaN     NaN   \n",
            "long                NaN       NaN        NaN          NaN       NaN     NaN   \n",
            "sqft_living15       NaN       NaN        NaN     0.757712       NaN     NaN   \n",
            "sqft_lot15          NaN       NaN        NaN          NaN  0.722983     NaN   \n",
            "\n",
            "               waterfront  view  condition     grade  sqft_above  \\\n",
            "price                 NaN   NaN        NaN       NaN         NaN   \n",
            "bedrooms              NaN   NaN        NaN       NaN         NaN   \n",
            "bathrooms             NaN   NaN        NaN       NaN         NaN   \n",
            "sqft_living           NaN   NaN        NaN  0.765616    0.876517   \n",
            "sqft_lot              NaN   NaN        NaN       NaN         NaN   \n",
            "floors                NaN   NaN        NaN       NaN         NaN   \n",
            "waterfront            1.0   NaN        NaN       NaN         NaN   \n",
            "view                  NaN   1.0        NaN       NaN         NaN   \n",
            "condition             NaN   NaN        1.0       NaN         NaN   \n",
            "grade                 NaN   NaN        NaN  1.000000    0.759375   \n",
            "sqft_above            NaN   NaN        NaN  0.759375    1.000000   \n",
            "sqft_basement         NaN   NaN        NaN       NaN         NaN   \n",
            "yr_built              NaN   NaN        NaN       NaN         NaN   \n",
            "yr_renovated          NaN   NaN        NaN       NaN         NaN   \n",
            "zipcode               NaN   NaN        NaN       NaN         NaN   \n",
            "lat                   NaN   NaN        NaN       NaN         NaN   \n",
            "long                  NaN   NaN        NaN       NaN         NaN   \n",
            "sqft_living15         NaN   NaN        NaN  0.716000    0.731507   \n",
            "sqft_lot15            NaN   NaN        NaN       NaN         NaN   \n",
            "\n",
            "               sqft_basement  yr_built  yr_renovated  zipcode  lat  long  \\\n",
            "price                    NaN       NaN           NaN      NaN  NaN   NaN   \n",
            "bedrooms                 NaN       NaN           NaN      NaN  NaN   NaN   \n",
            "bathrooms                NaN       NaN           NaN      NaN  NaN   NaN   \n",
            "sqft_living              NaN       NaN           NaN      NaN  NaN   NaN   \n",
            "sqft_lot                 NaN       NaN           NaN      NaN  NaN   NaN   \n",
            "floors                   NaN       NaN           NaN      NaN  NaN   NaN   \n",
            "waterfront               NaN       NaN           NaN      NaN  NaN   NaN   \n",
            "view                     NaN       NaN           NaN      NaN  NaN   NaN   \n",
            "condition                NaN       NaN           NaN      NaN  NaN   NaN   \n",
            "grade                    NaN       NaN           NaN      NaN  NaN   NaN   \n",
            "sqft_above               NaN       NaN           NaN      NaN  NaN   NaN   \n",
            "sqft_basement            1.0       NaN           NaN      NaN  NaN   NaN   \n",
            "yr_built                 NaN       1.0           NaN      NaN  NaN   NaN   \n",
            "yr_renovated             NaN       NaN           1.0      NaN  NaN   NaN   \n",
            "zipcode                  NaN       NaN           NaN      1.0  NaN   NaN   \n",
            "lat                      NaN       NaN           NaN      NaN  1.0   NaN   \n",
            "long                     NaN       NaN           NaN      NaN  NaN   1.0   \n",
            "sqft_living15            NaN       NaN           NaN      NaN  NaN   NaN   \n",
            "sqft_lot15               NaN       NaN           NaN      NaN  NaN   NaN   \n",
            "\n",
            "               sqft_living15  sqft_lot15  \n",
            "price                    NaN         NaN  \n",
            "bedrooms                 NaN         NaN  \n",
            "bathrooms                NaN         NaN  \n",
            "sqft_living         0.757712         NaN  \n",
            "sqft_lot                 NaN    0.722983  \n",
            "floors                   NaN         NaN  \n",
            "waterfront               NaN         NaN  \n",
            "view                     NaN         NaN  \n",
            "condition                NaN         NaN  \n",
            "grade               0.716000         NaN  \n",
            "sqft_above          0.731507         NaN  \n",
            "sqft_basement            NaN         NaN  \n",
            "yr_built                 NaN         NaN  \n",
            "yr_renovated             NaN         NaN  \n",
            "zipcode                  NaN         NaN  \n",
            "lat                      NaN         NaN  \n",
            "long                     NaN         NaN  \n",
            "sqft_living15       1.000000         NaN  \n",
            "sqft_lot15               NaN    1.000000  \n"
          ]
        }
      ]
    },
    {
      "cell_type": "markdown",
      "source": [
        "#Rationale:\n",
        "Based on the high correlation matrix which was set to show only variables with correlations exceeding 0.7, it was determined to include price, bedrooms, bathrooms, sqft_living, sqft_lot, yr_built, and zipcode and exclude all others. Bedrooms showed no high correlation. Price showed strong correlation with sqft_living. Sqft_living showed strong correlation with price, bathrooms, grade, sqft_above, and sqft_living15. With that information it was decided to remove grade, sqft_above, and sqft_living15. Many variables showed no correlation to any of the variables and held no analytical value and where therefore removed. The goal of removing these columns is to make the data set easier to manage and develop a more efficient and accurate analysis."
      ],
      "metadata": {
        "id": "0y_iBZC7LIKh"
      }
    },
    {
      "cell_type": "code",
      "source": [
        "# Removing columns that are to be excluded from analysis, check counts. \n",
        "\n",
        "subset = droppedID[['price', 'bedrooms', 'bathrooms', 'sqft_living', 'sqft_lot', 'yr_built', 'zipcode']]\n",
        "subset.count()"
      ],
      "metadata": {
        "colab": {
          "base_uri": "https://localhost:8080/"
        },
        "id": "1Joq3-BALNa4",
        "outputId": "25b891d3-3e11-4208-ceb2-77b729f5e46c"
      },
      "execution_count": null,
      "outputs": [
        {
          "output_type": "execute_result",
          "data": {
            "text/plain": [
              "price          17618\n",
              "bedrooms       17618\n",
              "bathrooms      17618\n",
              "sqft_living    17618\n",
              "sqft_lot       17618\n",
              "yr_built       17618\n",
              "zipcode        17618\n",
              "dtype: int64"
            ]
          },
          "metadata": {},
          "execution_count": 39
        }
      ]
    },
    {
      "cell_type": "markdown",
      "source": [
        "# Check the number of unique values in a column:\n",
        "Note:  If the number of unique values in a column is large, the distribution of values is skewed, or the granularity of the data is too fine-grained, you may need to aggregate the data. \n",
        "Similarly, if the dataset is very large, aggregation may be necessary to reduce the size of the dataset for easier analysis or visualization."
      ],
      "metadata": {
        "id": "2UORo-u-LTSD"
      }
    },
    {
      "cell_type": "code",
      "source": [
        "print(subset['price'].nunique())\n",
        "print(subset['bedrooms'].nunique())\n",
        "print(subset['bathrooms'].nunique())\n",
        "print(subset['sqft_living'].nunique())\n",
        "print(subset['sqft_lot'].nunique())\n",
        "print(subset['yr_built'].nunique())\n",
        "print(subset['zipcode'].nunique())"
      ],
      "metadata": {
        "colab": {
          "base_uri": "https://localhost:8080/"
        },
        "id": "BZfmKJsULal5",
        "outputId": "53b477a2-6fd0-49f3-8e74-0bc282a4cf2c"
      },
      "execution_count": null,
      "outputs": [
        {
          "output_type": "stream",
          "name": "stdout",
          "text": [
            "3574\n",
            "12\n",
            "29\n",
            "950\n",
            "8530\n",
            "116\n",
            "70\n"
          ]
        }
      ]
    },
    {
      "cell_type": "markdown",
      "source": [
        "# Aggregation - Descriptive Stats "
      ],
      "metadata": {
        "id": "HONVyAbALpoG"
      }
    },
    {
      "cell_type": "code",
      "source": [
        "# To perform aggregation, a descriptive statistics table was derived for the 7 remaining variables. \n",
        "\n",
        "stats_table = subset.describe().round(2)\n",
        "print(stats_table)"
      ],
      "metadata": {
        "colab": {
          "base_uri": "https://localhost:8080/"
        },
        "id": "mr9RDwyrLoCb",
        "outputId": "d33be606-49f2-41ff-ee7e-a548b691e245"
      },
      "execution_count": null,
      "outputs": [
        {
          "output_type": "stream",
          "name": "stdout",
          "text": [
            "            price  bedrooms  bathrooms  sqft_living    sqft_lot  yr_built  \\\n",
            "count    17618.00  17618.00   17618.00     17618.00    17618.00  17618.00   \n",
            "mean    541643.73      3.38       2.11      2083.48    15140.85   1970.82   \n",
            "std     368718.59      0.94       0.77       918.74    42288.64     29.37   \n",
            "min      75000.00      0.00       0.00       370.00      520.00   1900.00   \n",
            "25%     323425.00      3.00       1.75      1430.00     5050.00   1951.00   \n",
            "50%     450000.00      3.00       2.25      1920.00     7620.00   1974.00   \n",
            "75%     646000.00      4.00       2.50      2550.00    10659.75   1997.00   \n",
            "max    7700000.00     33.00       8.00     12050.00  1651359.00   2015.00   \n",
            "\n",
            "        zipcode  \n",
            "count  17618.00  \n",
            "mean   98078.22  \n",
            "std       53.50  \n",
            "min    98001.00  \n",
            "25%    98033.00  \n",
            "50%    98065.00  \n",
            "75%    98118.00  \n",
            "max    98199.00  \n"
          ]
        }
      ]
    },
    {
      "cell_type": "markdown",
      "source": [
        "# Normalization \n",
        "Normalization is the process of scaling numeric data to a common range. It is a common preprocessing step in machine learning to improve the performance of models that use distance-based measures.\n",
        "\n",
        "## Normalization via Z-score scaling.\n",
        "The resulting output shows the scaled values for each column.\n",
        "Z-score scaling was selected for the scaling method as it applies to distributions that are not uniformly distributed. "
      ],
      "metadata": {
        "id": "5mAOgOQ3L0Xd"
      }
    },
    {
      "cell_type": "code",
      "source": [
        "# create a Z score StandardScaler object based on Z score \n",
        "\n",
        "z_score_scaler = StandardScaler()\n",
        "\n",
        "# fit and transform the data using the Z score Z scaler\n",
        "\n",
        "scaled_data = z_score_scaler.fit_transform(subset)\n",
        "print(scaled_data)"
      ],
      "metadata": {
        "colab": {
          "base_uri": "https://localhost:8080/"
        },
        "id": "3Bfxlg2-L_QO",
        "outputId": "ecad2daa-1819-4e71-e8e7-a045ddf0d041"
      },
      "execution_count": null,
      "outputs": [
        {
          "output_type": "stream",
          "name": "stdout",
          "text": [
            "[[-0.86720011 -0.4005291  -1.44919388 ... -0.22443666 -0.53890867\n",
            "   1.86509295]\n",
            " [-0.00988243 -0.4005291   0.17656531 ... -0.18678955 -0.67512711\n",
            "   0.87444179]\n",
            " [-0.98084013 -1.46840467 -1.44919388 ... -0.12156924 -1.28811007\n",
            "  -0.93863677]\n",
            " ...\n",
            " [-0.37846394 -1.46840467 -1.77434572 ... -0.32612169  1.3000402\n",
            "   1.22958088]\n",
            " [-0.38416221 -0.4005291   0.50171715 ... -0.3015754   1.12976715\n",
            "  -0.9573283 ]\n",
            " [-0.58757514 -1.46840467 -1.77434572 ... -0.33260116  1.26598559\n",
            "   1.22958088]]\n"
          ]
        }
      ]
    },
    {
      "cell_type": "code",
      "source": [
        "# assign the scaled data to new dataframe called subset_znorm\n",
        "\n",
        "subset_znorm = pd.DataFrame(scaled_data)\n",
        "subset_znorm = pd.DataFrame(scaled_data, columns=subset_znorm.columns)\n",
        "\n",
        "# print the scaled dataframe\n",
        "print(subset_znorm)"
      ],
      "metadata": {
        "colab": {
          "base_uri": "https://localhost:8080/"
        },
        "id": "eRBO4vAyMCOn",
        "outputId": "bac3116d-0ff5-4c60-e207-09519da80dad"
      },
      "execution_count": null,
      "outputs": [
        {
          "output_type": "stream",
          "name": "stdout",
          "text": [
            "              0         1         2         3         4         5         6\n",
            "0     -0.867200 -0.400529 -1.449194 -0.983425 -0.224437 -0.538909  1.865093\n",
            "1     -0.009882 -0.400529  0.176565  0.529565 -0.186790 -0.675127  0.874442\n",
            "2     -0.980840 -1.468405 -1.449194 -1.429702 -0.121569 -1.288110 -0.938637\n",
            "3      0.169121  0.667346  1.152021 -0.134409 -0.239808 -0.198363  1.080049\n",
            "4     -0.085823 -0.400529 -0.148587 -0.439184 -0.166973  0.550839 -0.078826\n",
            "...         ...       ...       ...       ...       ...       ...       ...\n",
            "17613 -0.492649 -0.400529  0.501717 -0.602456 -0.331301  1.300040  0.463228\n",
            "17614 -0.384162  0.667346  0.501717  0.246560 -0.220582  1.470313  1.266964\n",
            "17615 -0.378464 -1.468405 -1.774346 -1.157582 -0.326122  1.300040  1.229581\n",
            "17616 -0.384162 -0.400529  0.501717 -0.526262 -0.301575  1.129767 -0.957328\n",
            "17617 -0.587575 -1.468405 -1.774346 -1.157582 -0.332601  1.265986  1.229581\n",
            "\n",
            "[17618 rows x 7 columns]\n"
          ]
        }
      ]
    },
    {
      "cell_type": "code",
      "source": [
        "# Create a box plot of based on normalized data (subset_znorm dataset)\n",
        "\n",
        "\n",
        "fig, ax = plt.subplots()\n",
        "ax.boxplot(subset_znorm)\n",
        "ax.set_xlabel('Variable')\n",
        "ax.set_ylabel('Value')\n",
        "ax.set_title('Box Plot')\n",
        "\n",
        "# set the x-axis tick labels\n",
        "plt.xticks(range(1, len(subset_znorm.columns) + 1), subset_znorm.columns)\n",
        "\n",
        "# add a title and axis labels\n",
        "plt.title('Boxplot of subset_znorm Data')\n",
        "plt.xlabel('Columns')\n",
        "plt.ylabel('Values')\n",
        "\n",
        "plt.show()"
      ],
      "metadata": {
        "colab": {
          "base_uri": "https://localhost:8080/",
          "height": 472
        },
        "id": "tGzNeibAOIuD",
        "outputId": "96c8dfae-2ee0-443e-db66-64d6f09ba008"
      },
      "execution_count": null,
      "outputs": [
        {
          "output_type": "display_data",
          "data": {
            "text/plain": [
              "<Figure size 640x480 with 1 Axes>"
            ],
            "image/png": "[encoded data removed]"
          },
          "metadata": {}
        }
      ]
    },
    {
      "cell_type": "code",
      "source": [
        "# assign the scaled data to new dataframe called subset_znorm\n",
        "\n",
        "subset_znorm = pd.DataFrame(scaled_data)\n",
        "subset_znorm = pd.DataFrame(scaled_data, columns=subset_znorm.columns)\n",
        "\n",
        "# print the scaled dataframe\n",
        "print(subset_znorm)"
      ],
      "metadata": {
        "colab": {
          "base_uri": "https://localhost:8080/"
        },
        "id": "CbeIOBuCOTAT",
        "outputId": "126f0cf1-d693-482d-b503-0fdf3f3d655f"
      },
      "execution_count": null,
      "outputs": [
        {
          "output_type": "stream",
          "name": "stdout",
          "text": [
            "              0         1         2         3         4         5         6\n",
            "0     -0.867200 -0.400529 -1.449194 -0.983425 -0.224437 -0.538909  1.865093\n",
            "1     -0.009882 -0.400529  0.176565  0.529565 -0.186790 -0.675127  0.874442\n",
            "2     -0.980840 -1.468405 -1.449194 -1.429702 -0.121569 -1.288110 -0.938637\n",
            "3      0.169121  0.667346  1.152021 -0.134409 -0.239808 -0.198363  1.080049\n",
            "4     -0.085823 -0.400529 -0.148587 -0.439184 -0.166973  0.550839 -0.078826\n",
            "...         ...       ...       ...       ...       ...       ...       ...\n",
            "17613 -0.492649 -0.400529  0.501717 -0.602456 -0.331301  1.300040  0.463228\n",
            "17614 -0.384162  0.667346  0.501717  0.246560 -0.220582  1.470313  1.266964\n",
            "17615 -0.378464 -1.468405 -1.774346 -1.157582 -0.326122  1.300040  1.229581\n",
            "17616 -0.384162 -0.400529  0.501717 -0.526262 -0.301575  1.129767 -0.957328\n",
            "17617 -0.587575 -1.468405 -1.774346 -1.157582 -0.332601  1.265986  1.229581\n",
            "\n",
            "[17618 rows x 7 columns]\n"
          ]
        }
      ]
    },
    {
      "cell_type": "markdown",
      "source": [
        "## Normalization via MinMaxScaler "
      ],
      "metadata": {
        "id": "LCLRz773NtbY"
      }
    },
    {
      "cell_type": "code",
      "source": [
        "# Create a MinMaxScaler object based on Min Max Scaling \n",
        "scaler = MinMaxScaler()\n",
        "minmaxnormalized_data = scaler.fit_transform(subset)\n",
        "print(minmaxnormalized_data)"
      ],
      "metadata": {
        "colab": {
          "base_uri": "https://localhost:8080/"
        },
        "id": "7YGfCrxQNz58",
        "outputId": "6728a648-9522-4b5c-abb7-c5d9f5f4b170"
      },
      "execution_count": null,
      "outputs": [
        {
          "output_type": "stream",
          "name": "stdout",
          "text": [
            "[[1.92655738e-02 9.09090909e-02 1.25000000e-01 ... 3.10751079e-03\n",
            "  4.78260870e-01 8.93939394e-01]\n",
            " [6.07213115e-02 9.09090909e-02 2.81250000e-01 ... 4.07186891e-03\n",
            "  4.43478261e-01 6.26262626e-01]\n",
            " [1.37704918e-02 6.06060606e-02 1.25000000e-01 ... 5.74253455e-03\n",
            "  2.86956522e-01 1.36363636e-01]\n",
            " ...\n",
            " [4.28984918e-02 6.06060606e-02 9.37500000e-02 ... 5.02774650e-04\n",
            "  9.47826087e-01 7.22222222e-01]\n",
            " [4.26229508e-02 9.09090909e-02 3.12500000e-01 ... 1.13154584e-03\n",
            "  9.04347826e-01 1.31313131e-01]\n",
            " [3.27868852e-02 6.06060606e-02 9.37500000e-02 ... 3.36798440e-04\n",
            "  9.39130435e-01 7.22222222e-01]]\n"
          ]
        }
      ]
    },
    {
      "cell_type": "code",
      "source": [
        "# assign the scaled data to new dataframe called subset_mnorm\n",
        "\n",
        "minmaxnormalized_data = pd.DataFrame(minmaxnormalized_data)\n",
        "minmaxnormalized_data = pd.DataFrame(minmaxnormalized_data, columns=minmaxnormalized_data.columns)\n",
        "\n",
        "# print the scaled dataframe\n",
        "print(minmaxnormalized_data)"
      ],
      "metadata": {
        "colab": {
          "base_uri": "https://localhost:8080/"
        },
        "id": "pxc3AC0uOOg3",
        "outputId": "ca46ce09-a306-4067-f914-dd8d37e3d8bc"
      },
      "execution_count": null,
      "outputs": [
        {
          "output_type": "stream",
          "name": "stdout",
          "text": [
            "              0         1        2         3         4         5         6\n",
            "0      0.019266  0.090909  0.12500  0.069349  0.003108  0.478261  0.893939\n",
            "1      0.060721  0.090909  0.28125  0.188356  0.004072  0.443478  0.626263\n",
            "2      0.013770  0.060606  0.12500  0.034247  0.005743  0.286957  0.136364\n",
            "3      0.069377  0.121212  0.37500  0.136130  0.002714  0.565217  0.681818\n",
            "4      0.057049  0.090909  0.25000  0.112158  0.004579  0.756522  0.368687\n",
            "...         ...       ...      ...       ...       ...       ...       ...\n",
            "17613  0.037377  0.090909  0.31250  0.099315  0.000370  0.947826  0.515152\n",
            "17614  0.042623  0.121212  0.31250  0.166096  0.003206  0.991304  0.732323\n",
            "17615  0.042898  0.060606  0.09375  0.055651  0.000503  0.947826  0.722222\n",
            "17616  0.042623  0.090909  0.31250  0.105308  0.001132  0.904348  0.131313\n",
            "17617  0.032787  0.060606  0.09375  0.055651  0.000337  0.939130  0.722222\n",
            "\n",
            "[17618 rows x 7 columns]\n"
          ]
        }
      ]
    },
    {
      "cell_type": "code",
      "source": [
        "# Create a box plot of Min Max Normalized Data\n",
        "\n",
        "fig, ax = plt.subplots()\n",
        "ax.boxplot(minmaxnormalized_data)\n",
        "ax.set_xlabel('Variable')\n",
        "ax.set_ylabel('Value')\n",
        "ax.set_title('Box Plot')\n",
        "plt.show()"
      ],
      "metadata": {
        "colab": {
          "base_uri": "https://localhost:8080/",
          "height": 472
        },
        "id": "09ysB05_OuhM",
        "outputId": "746dc3b1-b0fd-4350-b4e6-dc24ec8e5a6c"
      },
      "execution_count": null,
      "outputs": [
        {
          "output_type": "display_data",
          "data": {
            "text/plain": [
              "<Figure size 640x480 with 1 Axes>"
            ],
            "image/png": "[encoded data removed]"
          },
          "metadata": {}
        }
      ]
    },
    {
      "cell_type": "markdown",
      "source": [
        "# Rationale: \n",
        "It was determined that there were no feature construction techniques needed to be applied to this data set. \n",
        "It was also determined that there was no need for discretization to be performed as there was no need to convert\n",
        "continuous variables into categorical variables in this analysis. \n"
      ],
      "metadata": {
        "id": "vR3CHeKYMLf9"
      }
    },
    {
      "cell_type": "markdown",
      "source": [
        "# *Appendix:* "
      ],
      "metadata": {
        "id": "jz-1fgTPMSX-"
      }
    },
    {
      "cell_type": "code",
      "source": [
        "# save original salesdata dataframe as CSV file in working directory\n",
        "\n",
        "salesdata.to_csv('original_df.csv', index=False)"
      ],
      "metadata": {
        "id": "TeBlT2l9MCU1"
      },
      "execution_count": null,
      "outputs": []
    },
    {
      "cell_type": "code",
      "source": [
        "# save subset data frame to CSV file\n",
        "\n",
        "subset.to_csv('final_df.csv', index=False)"
      ],
      "metadata": {
        "id": "3BUaBhCnMCXr"
      },
      "execution_count": null,
      "outputs": []
    },
    {
      "cell_type": "markdown",
      "source": [
        "# Granularity "
      ],
      "metadata": {
        "id": "eq7NA6rqO1ZH"
      }
    },
    {
      "cell_type": "code",
      "source": [
        "# Check the granularity of the subset data - Determines the need for aggregation. \n",
        "\n",
        "print(subset['price'].min(), subset['price'].max())\n",
        "print(subset['bedrooms'].min(), subset['bedrooms'].max())\n",
        "print(subset['bathrooms'].min(), subset['bathrooms'].max())\n",
        "print(subset['sqft_living'].min(), subset['sqft_living'].max())\n",
        "print(subset['sqft_lot'].min(), subset['sqft_lot'].max())\n",
        "print(subset['yr_built'].min(), subset['yr_built'].max())\n",
        "print(subset['zipcode'].min(), subset['zipcode'].max())"
      ],
      "metadata": {
        "colab": {
          "base_uri": "https://localhost:8080/"
        },
        "id": "-V-V8j0yMCde",
        "outputId": "76db4321-0fe6-44aa-f34e-86dc14968358"
      },
      "execution_count": null,
      "outputs": [
        {
          "output_type": "stream",
          "name": "stdout",
          "text": [
            "75000.0 7700000.0\n",
            "0.0 33.0\n",
            "0.0 8.0\n",
            "370.0 12050.0\n",
            "520.0 1651359.0\n",
            "1900 2015\n",
            "98001 98199\n"
          ]
        }
      ]
    },
    {
      "cell_type": "markdown",
      "source": [
        "# Skewness \n",
        "\n",
        "Calculate the skewness of a column based on non-normalized data (subset dataset)\n",
        "Skewness from Pandas:\n",
        "The skew() function in Pandas can be used to calculate the skewness of a sample distribution. The function returns a value that indicates the degree of skewness. If the value is positive, the distribution is skewed to the right (i.e., it has a long right tail). If the value is negative, the distribution is skewed to the left (i.e., it has a long left tail). If the value is close to zero, the distribution is approximately symmetric."
      ],
      "metadata": {
        "id": "ogQViXHEMzZB"
      }
    },
    {
      "cell_type": "code",
      "source": [
        "df = pd.DataFrame(subset)\n",
        "skewness = df.skew()\n",
        "skew_summary = pd.DataFrame({'Skewness': skewness})\n",
        "print(skew_summary)"
      ],
      "metadata": {
        "colab": {
          "base_uri": "https://localhost:8080/"
        },
        "id": "_zgNFLIxMCgB",
        "outputId": "e3a07691-3e9b-4067-b482-a79c1ca567f3"
      },
      "execution_count": null,
      "outputs": [
        {
          "output_type": "stream",
          "name": "stdout",
          "text": [
            "              Skewness\n",
            "price         3.916013\n",
            "bedrooms      2.245520\n",
            "bathrooms     0.490866\n",
            "sqft_living   1.406860\n",
            "sqft_lot     13.440280\n",
            "yr_built     -0.455818\n",
            "zipcode       0.398600\n"
          ]
        }
      ]
    },
    {
      "cell_type": "markdown",
      "source": [
        "# Plots "
      ],
      "metadata": {
        "id": "fdsZZQIbNKag"
      }
    },
    {
      "cell_type": "code",
      "source": [
        "# Create a box plot of based on non-normalized data (subset dataset)\n",
        "\n",
        "\n",
        "fig, ax = plt.subplots()\n",
        "ax.boxplot(subset)\n",
        "ax.set_xlabel('Variable')\n",
        "ax.set_ylabel('Value')\n",
        "ax.set_title('Box Plot')\n",
        "\n",
        "# set the x-axis tick labels\n",
        "plt.xticks(range(1, len(subset.columns) + 1), subset.columns)\n",
        "\n",
        "# add a title and axis labels\n",
        "plt.title('Boxplot of subset Data')\n",
        "plt.xlabel('Columns')\n",
        "plt.ylabel('Values')\n",
        "\n",
        "plt.show()"
      ],
      "metadata": {
        "colab": {
          "base_uri": "https://localhost:8080/",
          "height": 472
        },
        "id": "RCGWgVvuMCmJ",
        "outputId": "b7eee3b4-5e66-425c-80d7-0aa9f55b175b"
      },
      "execution_count": null,
      "outputs": [
        {
          "output_type": "display_data",
          "data": {
            "text/plain": [
              "<Figure size 640x480 with 1 Axes>"
            ],
            "image/png": "[encoded data removed]"
          },
          "metadata": {}
        }
      ]
    },
    {
      "cell_type": "code",
      "source": [
        "# save the subset_znorm dataframe as a CSV file\n",
        "\n",
        "subset_znorm.to_csv('subset_znorm.csv', index=False)"
      ],
      "metadata": {
        "id": "Mpg9oH_XNVte"
      },
      "execution_count": null,
      "outputs": []
    },
    {
      "cell_type": "code",
      "source": [
        "# save the minmaxnormalized_data dataframe as a CSV file\n",
        "\n",
        "minmaxnormalized_data.to_csv('minmaxnormalized_data.csv', index=False)"
      ],
      "metadata": {
        "id": "UJoPh-PXPD1p"
      },
      "execution_count": null,
      "outputs": []
    }
  ]
}