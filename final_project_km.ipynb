{
  "cells": [
    {
      "cell_type": "markdown",
      "metadata": {
        "id": "view-in-github",
        "colab_type": "text"
      },
      "source": [
        "<a href=\"https://colab.research.google.com/github/dsklnr/Washington_Real_Estate/blob/Katie_Mears_Branch/final_project_km.ipynb\" target=\"_parent\"><img src=\"https://colab.research.google.com/assets/colab-badge.svg\" alt=\"Open In Colab\"/></a>"
      ]
    },
    {
      "cell_type": "code",
      "execution_count": null,
      "id": "d28e5db8",
      "metadata": {
        "id": "d28e5db8",
        "outputId": "cf768656-4a11-4c70-a7f9-18e34e41d494"
      },
      "outputs": [
        {
          "name": "stdout",
          "output_type": "stream",
          "text": [
            "Requirement already satisfied: pandoc in /cloud/lib/lib/python3.8/site-packages (2.3)\n",
            "Requirement already satisfied: plumbum in /cloud/lib/lib/python3.8/site-packages (from pandoc) (1.8.1)\n",
            "Requirement already satisfied: ply in /cloud/lib/lib/python3.8/site-packages (from pandoc) (3.11)\n",
            "Note: you may need to restart the kernel to use updated packages.\n"
          ]
        }
      ],
      "source": [
        "pip install pandoc"
      ]
    },
    {
      "cell_type": "code",
      "execution_count": null,
      "id": "8da66112",
      "metadata": {
        "id": "8da66112"
      },
      "outputs": [],
      "source": [
        "import pandoc as pandoc"
      ]
    },
    {
      "cell_type": "code",
      "execution_count": null,
      "id": "0b28d9ed",
      "metadata": {
        "id": "0b28d9ed",
        "outputId": "aa804df1-900d-4960-ef0c-7e549f98e136"
      },
      "outputs": [
        {
          "data": {
            "text/plain": [
              "'/cloud/project'"
            ]
          },
          "execution_count": 2,
          "metadata": {},
          "output_type": "execute_result"
        }
      ],
      "source": [
        "### Find the current working directory \n",
        "\n",
        "import os \n",
        "os.getcwd()"
      ]
    },
    {
      "cell_type": "code",
      "execution_count": null,
      "id": "a9df7dd4",
      "metadata": {
        "scrolled": true,
        "id": "a9df7dd4",
        "outputId": "86efcb8d-7104-415b-e92e-7d3a1344e3fb"
      },
      "outputs": [
        {
          "data": {
            "text/plain": [
              "['.ipynb_checkpoints',\n",
              " 'welcome.ipynb',\n",
              " 'Untitled.ipynb',\n",
              " 'Final Project .ipynb',\n",
              " '.kernels',\n",
              " 'house_sales.csv']"
            ]
          },
          "execution_count": 3,
          "metadata": {},
          "output_type": "execute_result"
        }
      ],
      "source": [
        "### use os.listdir() to see the list of files in the current working directory.\n",
        "\n",
        "os.listdir()"
      ]
    },
    {
      "cell_type": "code",
      "execution_count": null,
      "id": "b5bdc337",
      "metadata": {
        "id": "b5bdc337",
        "outputId": "f7307977-06a6-46ab-87b1-086409b51b9b"
      },
      "outputs": [
        {
          "name": "stdout",
          "output_type": "stream",
          "text": [
            "Files in '/cloud/project': ['.ipynb_checkpoints', 'welcome.ipynb', 'Untitled.ipynb', 'Final Project .ipynb', '.kernels', 'house_sales.csv']\n"
          ]
        }
      ],
      "source": [
        "cwd = os.getcwd()  # Get the current working directory (cwd)\n",
        "files = os.listdir(cwd)  # Get all the files in that directory\n",
        "print(\"Files in %r: %s\" % (cwd, files))"
      ]
    },
    {
      "cell_type": "code",
      "execution_count": null,
      "id": "652610fe",
      "metadata": {
        "id": "652610fe"
      },
      "outputs": [],
      "source": [
        "### How to change working directory: \n",
        "### First import os (as we did above)  then os.chdir('')\n"
      ]
    },
    {
      "cell_type": "markdown",
      "id": "4c3b547c",
      "metadata": {
        "id": "4c3b547c"
      },
      "source": [
        "Libraries: "
      ]
    },
    {
      "cell_type": "code",
      "execution_count": null,
      "id": "4238b0d1",
      "metadata": {
        "scrolled": true,
        "id": "4238b0d1",
        "outputId": "17b616a3-0aa0-4fe5-ac31-7f4325e653c8"
      },
      "outputs": [
        {
          "name": "stdout",
          "output_type": "stream",
          "text": [
            "Requirement already satisfied: pandas in /cloud/lib/lib/python3.8/site-packages (1.5.3)\n",
            "Requirement already satisfied: python-dateutil>=2.8.1 in /opt/python/3.8.10/lib/python3.8/site-packages (from pandas) (2.8.2)\n",
            "Requirement already satisfied: numpy>=1.20.3 in /cloud/lib/lib/python3.8/site-packages (from pandas) (1.24.2)\n",
            "Requirement already satisfied: pytz>=2020.1 in /cloud/lib/lib/python3.8/site-packages (from pandas) (2023.3)\n",
            "Requirement already satisfied: six>=1.5 in /opt/python/3.8.10/lib/python3.8/site-packages (from python-dateutil>=2.8.1->pandas) (1.16.0)\n",
            "Note: you may need to restart the kernel to use updated packages.\n"
          ]
        }
      ],
      "source": [
        "pip install pandas \n"
      ]
    },
    {
      "cell_type": "code",
      "execution_count": null,
      "id": "1dee020d",
      "metadata": {
        "scrolled": true,
        "id": "1dee020d",
        "outputId": "ef1d4a0c-2362-4302-fe70-f08cd651f6b9"
      },
      "outputs": [
        {
          "name": "stdout",
          "output_type": "stream",
          "text": [
            "Requirement already satisfied: scipy in /cloud/lib/lib/python3.8/site-packages (1.10.1)\n",
            "Requirement already satisfied: numpy<1.27.0,>=1.19.5 in /cloud/lib/lib/python3.8/site-packages (from scipy) (1.24.2)\n",
            "Note: you may need to restart the kernel to use updated packages.\n"
          ]
        }
      ],
      "source": [
        "pip install scipy"
      ]
    },
    {
      "cell_type": "code",
      "execution_count": null,
      "id": "32001e3d",
      "metadata": {
        "id": "32001e3d",
        "outputId": "f8772c76-630e-4ac5-d04a-4f5edff04153"
      },
      "outputs": [
        {
          "name": "stdout",
          "output_type": "stream",
          "text": [
            "Requirement already satisfied: scipy in /cloud/lib/lib/python3.8/site-packages (1.10.1)\n",
            "Requirement already satisfied: numpy<1.27.0,>=1.19.5 in /cloud/lib/lib/python3.8/site-packages (from scipy) (1.24.2)\n",
            "Note: you may need to restart the kernel to use updated packages.\n"
          ]
        }
      ],
      "source": [
        "pip install scipy"
      ]
    },
    {
      "cell_type": "code",
      "execution_count": null,
      "id": "9689e259",
      "metadata": {
        "scrolled": true,
        "id": "9689e259",
        "outputId": "8e9aacad-457d-4ebd-8fb2-17677f6e51b8"
      },
      "outputs": [
        {
          "name": "stdout",
          "output_type": "stream",
          "text": [
            "Requirement already satisfied: matplotlib in /cloud/lib/lib/python3.8/site-packages (3.7.1)\n",
            "Requirement already satisfied: pyparsing>=2.3.1 in /opt/python/3.8.10/lib/python3.8/site-packages (from matplotlib) (3.0.9)\n",
            "Requirement already satisfied: importlib-resources>=3.2.0 in /cloud/lib/lib/python3.8/site-packages (from matplotlib) (5.12.0)\n",
            "Requirement already satisfied: numpy>=1.20 in /cloud/lib/lib/python3.8/site-packages (from matplotlib) (1.24.2)\n",
            "Requirement already satisfied: pillow>=6.2.0 in /cloud/lib/lib/python3.8/site-packages (from matplotlib) (9.5.0)\n",
            "Requirement already satisfied: packaging>=20.0 in /opt/python/3.8.10/lib/python3.8/site-packages (from matplotlib) (21.3)\n",
            "Requirement already satisfied: kiwisolver>=1.0.1 in /cloud/lib/lib/python3.8/site-packages (from matplotlib) (1.4.4)\n",
            "Requirement already satisfied: contourpy>=1.0.1 in /cloud/lib/lib/python3.8/site-packages (from matplotlib) (1.0.7)\n",
            "Requirement already satisfied: cycler>=0.10 in /cloud/lib/lib/python3.8/site-packages (from matplotlib) (0.11.0)\n",
            "Requirement already satisfied: python-dateutil>=2.7 in /opt/python/3.8.10/lib/python3.8/site-packages (from matplotlib) (2.8.2)\n",
            "Requirement already satisfied: fonttools>=4.22.0 in /cloud/lib/lib/python3.8/site-packages (from matplotlib) (4.39.3)\n",
            "Requirement already satisfied: zipp>=3.1.0 in /cloud/lib/lib/python3.8/site-packages (from importlib-resources>=3.2.0->matplotlib) (3.15.0)\n",
            "Requirement already satisfied: six>=1.5 in /opt/python/3.8.10/lib/python3.8/site-packages (from python-dateutil>=2.7->matplotlib) (1.16.0)\n",
            "Note: you may need to restart the kernel to use updated packages.\n"
          ]
        }
      ],
      "source": [
        "pip install matplotlib\n"
      ]
    },
    {
      "cell_type": "code",
      "execution_count": null,
      "id": "1ee92bd3",
      "metadata": {
        "scrolled": true,
        "id": "1ee92bd3"
      },
      "outputs": [],
      "source": [
        "from sklearn.preprocessing import MinMaxScaler"
      ]
    },
    {
      "cell_type": "code",
      "execution_count": null,
      "id": "b8430176",
      "metadata": {
        "id": "b8430176",
        "outputId": "3731523e-387a-4bf4-e4f2-6bd2f4111327"
      },
      "outputs": [
        {
          "name": "stdout",
          "output_type": "stream",
          "text": [
            "Requirement already satisfied: Scikit-learn in /cloud/lib/lib/python3.8/site-packages (1.2.2)\n",
            "Requirement already satisfied: numpy>=1.17.3 in /cloud/lib/lib/python3.8/site-packages (from Scikit-learn) (1.24.2)\n",
            "Requirement already satisfied: scipy>=1.3.2 in /cloud/lib/lib/python3.8/site-packages (from Scikit-learn) (1.10.1)\n",
            "Requirement already satisfied: joblib>=1.1.1 in /cloud/lib/lib/python3.8/site-packages (from Scikit-learn) (1.2.0)\n",
            "Requirement already satisfied: threadpoolctl>=2.0.0 in /cloud/lib/lib/python3.8/site-packages (from Scikit-learn) (3.1.0)\n",
            "Note: you may need to restart the kernel to use updated packages.\n"
          ]
        }
      ],
      "source": [
        "pip install Scikit-learn"
      ]
    },
    {
      "cell_type": "code",
      "execution_count": null,
      "id": "902f6311",
      "metadata": {
        "id": "902f6311",
        "outputId": "3962cedb-628c-4e6c-ef46-fa5bf076a927"
      },
      "outputs": [
        {
          "name": "stdout",
          "output_type": "stream",
          "text": [
            "Requirement already satisfied: sklearn in /cloud/lib/lib/python3.8/site-packages (0.0.post1)\n",
            "Note: you may need to restart the kernel to use updated packages.\n"
          ]
        }
      ],
      "source": [
        "pip install sklearn"
      ]
    },
    {
      "cell_type": "code",
      "execution_count": null,
      "id": "ffc5205e",
      "metadata": {
        "id": "ffc5205e",
        "outputId": "1689d120-b2c1-4b8e-810f-64f1cf0585dc"
      },
      "outputs": [
        {
          "name": "stdout",
          "output_type": "stream",
          "text": [
            "Requirement already satisfied: pip in /cloud/lib/lib/python3.8/site-packages (23.0.1)\n",
            "Note: you may need to restart the kernel to use updated packages.\n"
          ]
        }
      ],
      "source": [
        "pip install --upgrade pip"
      ]
    },
    {
      "cell_type": "code",
      "execution_count": null,
      "id": "83109599",
      "metadata": {
        "id": "83109599"
      },
      "outputs": [],
      "source": [
        "import pandas as pd\n",
        "import numpy as np\n",
        "import scipy as sp\n",
        "from scipy.stats import skewtest\n"
      ]
    },
    {
      "cell_type": "code",
      "execution_count": null,
      "id": "53c04caa",
      "metadata": {
        "scrolled": true,
        "id": "53c04caa",
        "outputId": "ba85d29f-4a78-40c8-f5dd-6ca0de651bb7"
      },
      "outputs": [
        {
          "name": "stderr",
          "output_type": "stream",
          "text": [
            "Matplotlib created a temporary config/cache directory at /tmp/matplotlib-6dcxj28z because the default path (/home/rstudio-user/.config/matplotlib) is not a writable directory; it is highly recommended to set the MPLCONFIGDIR environment variable to a writable directory, in particular to speed up the import of Matplotlib and to better support multiprocessing.\n"
          ]
        }
      ],
      "source": [
        "import matplotlib.pyplot as plt"
      ]
    },
    {
      "cell_type": "code",
      "execution_count": null,
      "id": "d6f9f8c7",
      "metadata": {
        "id": "d6f9f8c7"
      },
      "outputs": [],
      "source": [
        "### How to load CSV File or CSV Dataset "
      ]
    },
    {
      "cell_type": "markdown",
      "id": "06ccaa0f",
      "metadata": {
        "id": "06ccaa0f"
      },
      "source": [
        "Data Importing and Preprocessing "
      ]
    },
    {
      "cell_type": "code",
      "execution_count": null,
      "id": "e35df0a9",
      "metadata": {
        "scrolled": true,
        "id": "e35df0a9"
      },
      "outputs": [],
      "source": [
        "salesdata = pd.read_csv(\"house_sales.csv\")"
      ]
    },
    {
      "cell_type": "code",
      "execution_count": null,
      "id": "acb38740",
      "metadata": {
        "id": "acb38740",
        "outputId": "01a0eb47-a821-4198-a591-ebf33f554a30"
      },
      "outputs": [
        {
          "data": {
            "text/html": [
              "<div>\n",
              "<style scoped>\n",
              "    .dataframe tbody tr th:only-of-type {\n",
              "        vertical-align: middle;\n",
              "    }\n",
              "\n",
              "    .dataframe tbody tr th {\n",
              "        vertical-align: top;\n",
              "    }\n",
              "\n",
              "    .dataframe thead th {\n",
              "        text-align: right;\n",
              "    }\n",
              "</style>\n",
              "<table border=\"1\" class=\"dataframe\">\n",
              "  <thead>\n",
              "    <tr style=\"text-align: right;\">\n",
              "      <th></th>\n",
              "      <th>id</th>\n",
              "      <th>date</th>\n",
              "      <th>price</th>\n",
              "      <th>bedrooms</th>\n",
              "      <th>bathrooms</th>\n",
              "      <th>sqft_living</th>\n",
              "      <th>sqft_lot</th>\n",
              "      <th>floors</th>\n",
              "      <th>waterfront</th>\n",
              "      <th>view</th>\n",
              "      <th>...</th>\n",
              "      <th>grade</th>\n",
              "      <th>sqft_above</th>\n",
              "      <th>sqft_basement</th>\n",
              "      <th>yr_built</th>\n",
              "      <th>yr_renovated</th>\n",
              "      <th>zipcode</th>\n",
              "      <th>lat</th>\n",
              "      <th>long</th>\n",
              "      <th>sqft_living15</th>\n",
              "      <th>sqft_lot15</th>\n",
              "    </tr>\n",
              "  </thead>\n",
              "  <tbody>\n",
              "    <tr>\n",
              "      <th>0</th>\n",
              "      <td>7129300520</td>\n",
              "      <td>20141013T000000</td>\n",
              "      <td>221900.0</td>\n",
              "      <td>3.0</td>\n",
              "      <td>1.00</td>\n",
              "      <td>1180.0</td>\n",
              "      <td>5650.0</td>\n",
              "      <td>1.0</td>\n",
              "      <td>0</td>\n",
              "      <td>0</td>\n",
              "      <td>...</td>\n",
              "      <td>7</td>\n",
              "      <td>1180</td>\n",
              "      <td>0</td>\n",
              "      <td>1955</td>\n",
              "      <td>0</td>\n",
              "      <td>98178</td>\n",
              "      <td>47.5112</td>\n",
              "      <td>-122.257</td>\n",
              "      <td>1340</td>\n",
              "      <td>5650</td>\n",
              "    </tr>\n",
              "    <tr>\n",
              "      <th>1</th>\n",
              "      <td>6414100192</td>\n",
              "      <td>20141209T000000</td>\n",
              "      <td>538000.0</td>\n",
              "      <td>3.0</td>\n",
              "      <td>2.25</td>\n",
              "      <td>2570.0</td>\n",
              "      <td>7242.0</td>\n",
              "      <td>2.0</td>\n",
              "      <td>0</td>\n",
              "      <td>0</td>\n",
              "      <td>...</td>\n",
              "      <td>7</td>\n",
              "      <td>2170</td>\n",
              "      <td>400</td>\n",
              "      <td>1951</td>\n",
              "      <td>1991</td>\n",
              "      <td>98125</td>\n",
              "      <td>47.7210</td>\n",
              "      <td>-122.319</td>\n",
              "      <td>1690</td>\n",
              "      <td>7639</td>\n",
              "    </tr>\n",
              "    <tr>\n",
              "      <th>2</th>\n",
              "      <td>5631500400</td>\n",
              "      <td>20150225T000000</td>\n",
              "      <td>180000.0</td>\n",
              "      <td>2.0</td>\n",
              "      <td>1.00</td>\n",
              "      <td>770.0</td>\n",
              "      <td>10000.0</td>\n",
              "      <td>1.0</td>\n",
              "      <td>0</td>\n",
              "      <td>0</td>\n",
              "      <td>...</td>\n",
              "      <td>6</td>\n",
              "      <td>770</td>\n",
              "      <td>0</td>\n",
              "      <td>1933</td>\n",
              "      <td>0</td>\n",
              "      <td>98028</td>\n",
              "      <td>47.7379</td>\n",
              "      <td>-122.233</td>\n",
              "      <td>2720</td>\n",
              "      <td>8062</td>\n",
              "    </tr>\n",
              "    <tr>\n",
              "      <th>3</th>\n",
              "      <td>2487200875</td>\n",
              "      <td>20141209T000000</td>\n",
              "      <td>604000.0</td>\n",
              "      <td>4.0</td>\n",
              "      <td>3.00</td>\n",
              "      <td>1960.0</td>\n",
              "      <td>5000.0</td>\n",
              "      <td>1.0</td>\n",
              "      <td>0</td>\n",
              "      <td>0</td>\n",
              "      <td>...</td>\n",
              "      <td>7</td>\n",
              "      <td>1050</td>\n",
              "      <td>910</td>\n",
              "      <td>1965</td>\n",
              "      <td>0</td>\n",
              "      <td>98136</td>\n",
              "      <td>47.5208</td>\n",
              "      <td>-122.393</td>\n",
              "      <td>1360</td>\n",
              "      <td>5000</td>\n",
              "    </tr>\n",
              "    <tr>\n",
              "      <th>4</th>\n",
              "      <td>1954400510</td>\n",
              "      <td>20150218T000000</td>\n",
              "      <td>510000.0</td>\n",
              "      <td>3.0</td>\n",
              "      <td>2.00</td>\n",
              "      <td>1680.0</td>\n",
              "      <td>8080.0</td>\n",
              "      <td>1.0</td>\n",
              "      <td>0</td>\n",
              "      <td>0</td>\n",
              "      <td>...</td>\n",
              "      <td>8</td>\n",
              "      <td>1680</td>\n",
              "      <td>0</td>\n",
              "      <td>1987</td>\n",
              "      <td>0</td>\n",
              "      <td>98074</td>\n",
              "      <td>47.6168</td>\n",
              "      <td>-122.045</td>\n",
              "      <td>1800</td>\n",
              "      <td>7503</td>\n",
              "    </tr>\n",
              "  </tbody>\n",
              "</table>\n",
              "<p>5 rows × 21 columns</p>\n",
              "</div>"
            ],
            "text/plain": [
              "           id             date     price  bedrooms  bathrooms  sqft_living  \\\n",
              "0  7129300520  20141013T000000  221900.0       3.0       1.00       1180.0   \n",
              "1  6414100192  20141209T000000  538000.0       3.0       2.25       2570.0   \n",
              "2  5631500400  20150225T000000  180000.0       2.0       1.00        770.0   \n",
              "3  2487200875  20141209T000000  604000.0       4.0       3.00       1960.0   \n",
              "4  1954400510  20150218T000000  510000.0       3.0       2.00       1680.0   \n",
              "\n",
              "   sqft_lot  floors  waterfront  view  ...  grade  sqft_above  sqft_basement  \\\n",
              "0    5650.0     1.0           0     0  ...      7        1180              0   \n",
              "1    7242.0     2.0           0     0  ...      7        2170            400   \n",
              "2   10000.0     1.0           0     0  ...      6         770              0   \n",
              "3    5000.0     1.0           0     0  ...      7        1050            910   \n",
              "4    8080.0     1.0           0     0  ...      8        1680              0   \n",
              "\n",
              "   yr_built  yr_renovated  zipcode      lat     long  sqft_living15  \\\n",
              "0      1955             0    98178  47.5112 -122.257           1340   \n",
              "1      1951          1991    98125  47.7210 -122.319           1690   \n",
              "2      1933             0    98028  47.7379 -122.233           2720   \n",
              "3      1965             0    98136  47.5208 -122.393           1360   \n",
              "4      1987             0    98074  47.6168 -122.045           1800   \n",
              "\n",
              "   sqft_lot15  \n",
              "0        5650  \n",
              "1        7639  \n",
              "2        8062  \n",
              "3        5000  \n",
              "4        7503  \n",
              "\n",
              "[5 rows x 21 columns]"
            ]
          },
          "execution_count": 18,
          "metadata": {},
          "output_type": "execute_result"
        }
      ],
      "source": [
        "salesdata.head()"
      ]
    },
    {
      "cell_type": "code",
      "execution_count": null,
      "id": "8c22d2c0",
      "metadata": {
        "id": "8c22d2c0",
        "outputId": "14afdc7c-0ec6-4d6b-b292-ecd64b3852c4"
      },
      "outputs": [
        {
          "data": {
            "text/html": [
              "<div>\n",
              "<style scoped>\n",
              "    .dataframe tbody tr th:only-of-type {\n",
              "        vertical-align: middle;\n",
              "    }\n",
              "\n",
              "    .dataframe tbody tr th {\n",
              "        vertical-align: top;\n",
              "    }\n",
              "\n",
              "    .dataframe thead th {\n",
              "        text-align: right;\n",
              "    }\n",
              "</style>\n",
              "<table border=\"1\" class=\"dataframe\">\n",
              "  <thead>\n",
              "    <tr style=\"text-align: right;\">\n",
              "      <th></th>\n",
              "      <th>id</th>\n",
              "      <th>date</th>\n",
              "      <th>price</th>\n",
              "      <th>bedrooms</th>\n",
              "      <th>bathrooms</th>\n",
              "      <th>sqft_living</th>\n",
              "      <th>sqft_lot</th>\n",
              "      <th>floors</th>\n",
              "      <th>waterfront</th>\n",
              "      <th>view</th>\n",
              "      <th>...</th>\n",
              "      <th>grade</th>\n",
              "      <th>sqft_above</th>\n",
              "      <th>sqft_basement</th>\n",
              "      <th>yr_built</th>\n",
              "      <th>yr_renovated</th>\n",
              "      <th>zipcode</th>\n",
              "      <th>lat</th>\n",
              "      <th>long</th>\n",
              "      <th>sqft_living15</th>\n",
              "      <th>sqft_lot15</th>\n",
              "    </tr>\n",
              "  </thead>\n",
              "  <tbody>\n",
              "    <tr>\n",
              "      <th>21608</th>\n",
              "      <td>263000018</td>\n",
              "      <td>20140521T000000</td>\n",
              "      <td>360000.0</td>\n",
              "      <td>3.0</td>\n",
              "      <td>2.50</td>\n",
              "      <td>1530.0</td>\n",
              "      <td>1131.0</td>\n",
              "      <td>3.0</td>\n",
              "      <td>0</td>\n",
              "      <td>0</td>\n",
              "      <td>...</td>\n",
              "      <td>8</td>\n",
              "      <td>1530</td>\n",
              "      <td>0</td>\n",
              "      <td>2009</td>\n",
              "      <td>0</td>\n",
              "      <td>98103</td>\n",
              "      <td>47.6993</td>\n",
              "      <td>-122.346</td>\n",
              "      <td>1530</td>\n",
              "      <td>1509</td>\n",
              "    </tr>\n",
              "    <tr>\n",
              "      <th>21609</th>\n",
              "      <td>6600060120</td>\n",
              "      <td>20150223T000000</td>\n",
              "      <td>400000.0</td>\n",
              "      <td>4.0</td>\n",
              "      <td>2.50</td>\n",
              "      <td>2310.0</td>\n",
              "      <td>5813.0</td>\n",
              "      <td>2.0</td>\n",
              "      <td>0</td>\n",
              "      <td>0</td>\n",
              "      <td>...</td>\n",
              "      <td>8</td>\n",
              "      <td>2310</td>\n",
              "      <td>0</td>\n",
              "      <td>2014</td>\n",
              "      <td>0</td>\n",
              "      <td>98146</td>\n",
              "      <td>47.5107</td>\n",
              "      <td>-122.362</td>\n",
              "      <td>1830</td>\n",
              "      <td>7200</td>\n",
              "    </tr>\n",
              "    <tr>\n",
              "      <th>21610</th>\n",
              "      <td>1523300141</td>\n",
              "      <td>20140623T000000</td>\n",
              "      <td>402101.0</td>\n",
              "      <td>2.0</td>\n",
              "      <td>0.75</td>\n",
              "      <td>1020.0</td>\n",
              "      <td>1350.0</td>\n",
              "      <td>2.0</td>\n",
              "      <td>0</td>\n",
              "      <td>0</td>\n",
              "      <td>...</td>\n",
              "      <td>7</td>\n",
              "      <td>1020</td>\n",
              "      <td>0</td>\n",
              "      <td>2009</td>\n",
              "      <td>0</td>\n",
              "      <td>98144</td>\n",
              "      <td>47.5944</td>\n",
              "      <td>-122.299</td>\n",
              "      <td>1020</td>\n",
              "      <td>2007</td>\n",
              "    </tr>\n",
              "    <tr>\n",
              "      <th>21611</th>\n",
              "      <td>291310100</td>\n",
              "      <td>20150116T000000</td>\n",
              "      <td>400000.0</td>\n",
              "      <td>3.0</td>\n",
              "      <td>2.50</td>\n",
              "      <td>1600.0</td>\n",
              "      <td>2388.0</td>\n",
              "      <td>2.0</td>\n",
              "      <td>0</td>\n",
              "      <td>0</td>\n",
              "      <td>...</td>\n",
              "      <td>8</td>\n",
              "      <td>1600</td>\n",
              "      <td>0</td>\n",
              "      <td>2004</td>\n",
              "      <td>0</td>\n",
              "      <td>98027</td>\n",
              "      <td>47.5345</td>\n",
              "      <td>-122.069</td>\n",
              "      <td>1410</td>\n",
              "      <td>1287</td>\n",
              "    </tr>\n",
              "    <tr>\n",
              "      <th>21612</th>\n",
              "      <td>1523300157</td>\n",
              "      <td>20141015T000000</td>\n",
              "      <td>325000.0</td>\n",
              "      <td>2.0</td>\n",
              "      <td>0.75</td>\n",
              "      <td>1020.0</td>\n",
              "      <td>1076.0</td>\n",
              "      <td>2.0</td>\n",
              "      <td>0</td>\n",
              "      <td>0</td>\n",
              "      <td>...</td>\n",
              "      <td>7</td>\n",
              "      <td>1020</td>\n",
              "      <td>0</td>\n",
              "      <td>2008</td>\n",
              "      <td>0</td>\n",
              "      <td>98144</td>\n",
              "      <td>47.5941</td>\n",
              "      <td>-122.299</td>\n",
              "      <td>1020</td>\n",
              "      <td>1357</td>\n",
              "    </tr>\n",
              "  </tbody>\n",
              "</table>\n",
              "<p>5 rows × 21 columns</p>\n",
              "</div>"
            ],
            "text/plain": [
              "               id             date     price  bedrooms  bathrooms  \\\n",
              "21608   263000018  20140521T000000  360000.0       3.0       2.50   \n",
              "21609  6600060120  20150223T000000  400000.0       4.0       2.50   \n",
              "21610  1523300141  20140623T000000  402101.0       2.0       0.75   \n",
              "21611   291310100  20150116T000000  400000.0       3.0       2.50   \n",
              "21612  1523300157  20141015T000000  325000.0       2.0       0.75   \n",
              "\n",
              "       sqft_living  sqft_lot  floors  waterfront  view  ...  grade  \\\n",
              "21608       1530.0    1131.0     3.0           0     0  ...      8   \n",
              "21609       2310.0    5813.0     2.0           0     0  ...      8   \n",
              "21610       1020.0    1350.0     2.0           0     0  ...      7   \n",
              "21611       1600.0    2388.0     2.0           0     0  ...      8   \n",
              "21612       1020.0    1076.0     2.0           0     0  ...      7   \n",
              "\n",
              "       sqft_above  sqft_basement  yr_built  yr_renovated  zipcode      lat  \\\n",
              "21608        1530              0      2009             0    98103  47.6993   \n",
              "21609        2310              0      2014             0    98146  47.5107   \n",
              "21610        1020              0      2009             0    98144  47.5944   \n",
              "21611        1600              0      2004             0    98027  47.5345   \n",
              "21612        1020              0      2008             0    98144  47.5941   \n",
              "\n",
              "          long  sqft_living15  sqft_lot15  \n",
              "21608 -122.346           1530        1509  \n",
              "21609 -122.362           1830        7200  \n",
              "21610 -122.299           1020        2007  \n",
              "21611 -122.069           1410        1287  \n",
              "21612 -122.299           1020        1357  \n",
              "\n",
              "[5 rows x 21 columns]"
            ]
          },
          "execution_count": 19,
          "metadata": {},
          "output_type": "execute_result"
        }
      ],
      "source": [
        "salesdata.tail()"
      ]
    },
    {
      "cell_type": "code",
      "execution_count": null,
      "id": "c51637d0",
      "metadata": {
        "id": "c51637d0",
        "outputId": "f077eb84-a77f-490d-ebd3-9f92be3f84d9"
      },
      "outputs": [
        {
          "name": "stdout",
          "output_type": "stream",
          "text": [
            "<class 'pandas.core.frame.DataFrame'>\n",
            "RangeIndex: 21613 entries, 0 to 21612\n",
            "Data columns (total 21 columns):\n",
            " #   Column         Non-Null Count  Dtype  \n",
            "---  ------         --------------  -----  \n",
            " 0   id             21613 non-null  int64  \n",
            " 1   date           21613 non-null  object \n",
            " 2   price          21613 non-null  float64\n",
            " 3   bedrooms       20479 non-null  float64\n",
            " 4   bathrooms      20545 non-null  float64\n",
            " 5   sqft_living    20503 non-null  float64\n",
            " 6   sqft_lot       20569 non-null  float64\n",
            " 7   floors         21613 non-null  float64\n",
            " 8   waterfront     21613 non-null  int64  \n",
            " 9   view           21613 non-null  int64  \n",
            " 10  condition      21613 non-null  int64  \n",
            " 11  grade          21613 non-null  int64  \n",
            " 12  sqft_above     21613 non-null  int64  \n",
            " 13  sqft_basement  21613 non-null  int64  \n",
            " 14  yr_built       21613 non-null  int64  \n",
            " 15  yr_renovated   21613 non-null  int64  \n",
            " 16  zipcode        21613 non-null  int64  \n",
            " 17  lat            21613 non-null  float64\n",
            " 18  long           21613 non-null  float64\n",
            " 19  sqft_living15  21613 non-null  int64  \n",
            " 20  sqft_lot15     21613 non-null  int64  \n",
            "dtypes: float64(8), int64(12), object(1)\n",
            "memory usage: 3.5+ MB\n"
          ]
        }
      ],
      "source": [
        "salesdata.info()"
      ]
    },
    {
      "cell_type": "code",
      "execution_count": null,
      "id": "3e32c950",
      "metadata": {
        "id": "3e32c950",
        "outputId": "3c3a0363-c7c1-477c-9428-fbdb89743f22"
      },
      "outputs": [
        {
          "data": {
            "text/html": [
              "<div>\n",
              "<style scoped>\n",
              "    .dataframe tbody tr th:only-of-type {\n",
              "        vertical-align: middle;\n",
              "    }\n",
              "\n",
              "    .dataframe tbody tr th {\n",
              "        vertical-align: top;\n",
              "    }\n",
              "\n",
              "    .dataframe thead th {\n",
              "        text-align: right;\n",
              "    }\n",
              "</style>\n",
              "<table border=\"1\" class=\"dataframe\">\n",
              "  <thead>\n",
              "    <tr style=\"text-align: right;\">\n",
              "      <th></th>\n",
              "      <th>id</th>\n",
              "      <th>price</th>\n",
              "      <th>bedrooms</th>\n",
              "      <th>bathrooms</th>\n",
              "      <th>sqft_living</th>\n",
              "      <th>sqft_lot</th>\n",
              "      <th>floors</th>\n",
              "      <th>waterfront</th>\n",
              "      <th>view</th>\n",
              "      <th>condition</th>\n",
              "      <th>grade</th>\n",
              "      <th>sqft_above</th>\n",
              "      <th>sqft_basement</th>\n",
              "      <th>yr_built</th>\n",
              "      <th>yr_renovated</th>\n",
              "      <th>zipcode</th>\n",
              "      <th>lat</th>\n",
              "      <th>long</th>\n",
              "      <th>sqft_living15</th>\n",
              "      <th>sqft_lot15</th>\n",
              "    </tr>\n",
              "  </thead>\n",
              "  <tbody>\n",
              "    <tr>\n",
              "      <th>count</th>\n",
              "      <td>2.161300e+04</td>\n",
              "      <td>2.161300e+04</td>\n",
              "      <td>20479.000000</td>\n",
              "      <td>20545.000000</td>\n",
              "      <td>20503.000000</td>\n",
              "      <td>2.056900e+04</td>\n",
              "      <td>21613.000000</td>\n",
              "      <td>21613.000000</td>\n",
              "      <td>21613.000000</td>\n",
              "      <td>21613.000000</td>\n",
              "      <td>21613.000000</td>\n",
              "      <td>21613.000000</td>\n",
              "      <td>21613.000000</td>\n",
              "      <td>21613.000000</td>\n",
              "      <td>21613.000000</td>\n",
              "      <td>21613.000000</td>\n",
              "      <td>21613.000000</td>\n",
              "      <td>21613.000000</td>\n",
              "      <td>21613.000000</td>\n",
              "      <td>21613.000000</td>\n",
              "    </tr>\n",
              "    <tr>\n",
              "      <th>mean</th>\n",
              "      <td>4.580302e+09</td>\n",
              "      <td>5.400881e+05</td>\n",
              "      <td>3.372821</td>\n",
              "      <td>2.113507</td>\n",
              "      <td>2081.073697</td>\n",
              "      <td>1.517982e+04</td>\n",
              "      <td>1.494309</td>\n",
              "      <td>0.007542</td>\n",
              "      <td>0.234303</td>\n",
              "      <td>3.409430</td>\n",
              "      <td>7.656873</td>\n",
              "      <td>1788.390691</td>\n",
              "      <td>291.509045</td>\n",
              "      <td>1971.005136</td>\n",
              "      <td>84.402258</td>\n",
              "      <td>98077.939805</td>\n",
              "      <td>47.560053</td>\n",
              "      <td>-122.213896</td>\n",
              "      <td>1986.552492</td>\n",
              "      <td>12768.455652</td>\n",
              "    </tr>\n",
              "    <tr>\n",
              "      <th>std</th>\n",
              "      <td>2.876566e+09</td>\n",
              "      <td>3.671272e+05</td>\n",
              "      <td>0.930711</td>\n",
              "      <td>0.768913</td>\n",
              "      <td>915.043176</td>\n",
              "      <td>4.148617e+04</td>\n",
              "      <td>0.539989</td>\n",
              "      <td>0.086517</td>\n",
              "      <td>0.766318</td>\n",
              "      <td>0.650743</td>\n",
              "      <td>1.175459</td>\n",
              "      <td>828.090978</td>\n",
              "      <td>442.575043</td>\n",
              "      <td>29.373411</td>\n",
              "      <td>401.679240</td>\n",
              "      <td>53.505026</td>\n",
              "      <td>0.138564</td>\n",
              "      <td>0.140828</td>\n",
              "      <td>685.391304</td>\n",
              "      <td>27304.179631</td>\n",
              "    </tr>\n",
              "    <tr>\n",
              "      <th>min</th>\n",
              "      <td>1.000102e+06</td>\n",
              "      <td>7.500000e+04</td>\n",
              "      <td>0.000000</td>\n",
              "      <td>0.000000</td>\n",
              "      <td>290.000000</td>\n",
              "      <td>5.200000e+02</td>\n",
              "      <td>1.000000</td>\n",
              "      <td>0.000000</td>\n",
              "      <td>0.000000</td>\n",
              "      <td>1.000000</td>\n",
              "      <td>1.000000</td>\n",
              "      <td>290.000000</td>\n",
              "      <td>0.000000</td>\n",
              "      <td>1900.000000</td>\n",
              "      <td>0.000000</td>\n",
              "      <td>98001.000000</td>\n",
              "      <td>47.155900</td>\n",
              "      <td>-122.519000</td>\n",
              "      <td>399.000000</td>\n",
              "      <td>651.000000</td>\n",
              "    </tr>\n",
              "    <tr>\n",
              "      <th>25%</th>\n",
              "      <td>2.123049e+09</td>\n",
              "      <td>3.219500e+05</td>\n",
              "      <td>3.000000</td>\n",
              "      <td>1.500000</td>\n",
              "      <td>1430.000000</td>\n",
              "      <td>5.040000e+03</td>\n",
              "      <td>1.000000</td>\n",
              "      <td>0.000000</td>\n",
              "      <td>0.000000</td>\n",
              "      <td>3.000000</td>\n",
              "      <td>7.000000</td>\n",
              "      <td>1190.000000</td>\n",
              "      <td>0.000000</td>\n",
              "      <td>1951.000000</td>\n",
              "      <td>0.000000</td>\n",
              "      <td>98033.000000</td>\n",
              "      <td>47.471000</td>\n",
              "      <td>-122.328000</td>\n",
              "      <td>1490.000000</td>\n",
              "      <td>5100.000000</td>\n",
              "    </tr>\n",
              "    <tr>\n",
              "      <th>50%</th>\n",
              "      <td>3.904930e+09</td>\n",
              "      <td>4.500000e+05</td>\n",
              "      <td>3.000000</td>\n",
              "      <td>2.250000</td>\n",
              "      <td>1920.000000</td>\n",
              "      <td>7.620000e+03</td>\n",
              "      <td>1.500000</td>\n",
              "      <td>0.000000</td>\n",
              "      <td>0.000000</td>\n",
              "      <td>3.000000</td>\n",
              "      <td>7.000000</td>\n",
              "      <td>1560.000000</td>\n",
              "      <td>0.000000</td>\n",
              "      <td>1975.000000</td>\n",
              "      <td>0.000000</td>\n",
              "      <td>98065.000000</td>\n",
              "      <td>47.571800</td>\n",
              "      <td>-122.230000</td>\n",
              "      <td>1840.000000</td>\n",
              "      <td>7620.000000</td>\n",
              "    </tr>\n",
              "    <tr>\n",
              "      <th>75%</th>\n",
              "      <td>7.308900e+09</td>\n",
              "      <td>6.450000e+05</td>\n",
              "      <td>4.000000</td>\n",
              "      <td>2.500000</td>\n",
              "      <td>2550.000000</td>\n",
              "      <td>1.070800e+04</td>\n",
              "      <td>2.000000</td>\n",
              "      <td>0.000000</td>\n",
              "      <td>0.000000</td>\n",
              "      <td>4.000000</td>\n",
              "      <td>8.000000</td>\n",
              "      <td>2210.000000</td>\n",
              "      <td>560.000000</td>\n",
              "      <td>1997.000000</td>\n",
              "      <td>0.000000</td>\n",
              "      <td>98118.000000</td>\n",
              "      <td>47.678000</td>\n",
              "      <td>-122.125000</td>\n",
              "      <td>2360.000000</td>\n",
              "      <td>10083.000000</td>\n",
              "    </tr>\n",
              "    <tr>\n",
              "      <th>max</th>\n",
              "      <td>9.900000e+09</td>\n",
              "      <td>7.700000e+06</td>\n",
              "      <td>33.000000</td>\n",
              "      <td>8.000000</td>\n",
              "      <td>12050.000000</td>\n",
              "      <td>1.651359e+06</td>\n",
              "      <td>3.500000</td>\n",
              "      <td>1.000000</td>\n",
              "      <td>4.000000</td>\n",
              "      <td>5.000000</td>\n",
              "      <td>13.000000</td>\n",
              "      <td>9410.000000</td>\n",
              "      <td>4820.000000</td>\n",
              "      <td>2015.000000</td>\n",
              "      <td>2015.000000</td>\n",
              "      <td>98199.000000</td>\n",
              "      <td>47.777600</td>\n",
              "      <td>-121.315000</td>\n",
              "      <td>6210.000000</td>\n",
              "      <td>871200.000000</td>\n",
              "    </tr>\n",
              "  </tbody>\n",
              "</table>\n",
              "</div>"
            ],
            "text/plain": [
              "                 id         price      bedrooms     bathrooms   sqft_living  \\\n",
              "count  2.161300e+04  2.161300e+04  20479.000000  20545.000000  20503.000000   \n",
              "mean   4.580302e+09  5.400881e+05      3.372821      2.113507   2081.073697   \n",
              "std    2.876566e+09  3.671272e+05      0.930711      0.768913    915.043176   \n",
              "min    1.000102e+06  7.500000e+04      0.000000      0.000000    290.000000   \n",
              "25%    2.123049e+09  3.219500e+05      3.000000      1.500000   1430.000000   \n",
              "50%    3.904930e+09  4.500000e+05      3.000000      2.250000   1920.000000   \n",
              "75%    7.308900e+09  6.450000e+05      4.000000      2.500000   2550.000000   \n",
              "max    9.900000e+09  7.700000e+06     33.000000      8.000000  12050.000000   \n",
              "\n",
              "           sqft_lot        floors    waterfront          view     condition  \\\n",
              "count  2.056900e+04  21613.000000  21613.000000  21613.000000  21613.000000   \n",
              "mean   1.517982e+04      1.494309      0.007542      0.234303      3.409430   \n",
              "std    4.148617e+04      0.539989      0.086517      0.766318      0.650743   \n",
              "min    5.200000e+02      1.000000      0.000000      0.000000      1.000000   \n",
              "25%    5.040000e+03      1.000000      0.000000      0.000000      3.000000   \n",
              "50%    7.620000e+03      1.500000      0.000000      0.000000      3.000000   \n",
              "75%    1.070800e+04      2.000000      0.000000      0.000000      4.000000   \n",
              "max    1.651359e+06      3.500000      1.000000      4.000000      5.000000   \n",
              "\n",
              "              grade    sqft_above  sqft_basement      yr_built  yr_renovated  \\\n",
              "count  21613.000000  21613.000000   21613.000000  21613.000000  21613.000000   \n",
              "mean       7.656873   1788.390691     291.509045   1971.005136     84.402258   \n",
              "std        1.175459    828.090978     442.575043     29.373411    401.679240   \n",
              "min        1.000000    290.000000       0.000000   1900.000000      0.000000   \n",
              "25%        7.000000   1190.000000       0.000000   1951.000000      0.000000   \n",
              "50%        7.000000   1560.000000       0.000000   1975.000000      0.000000   \n",
              "75%        8.000000   2210.000000     560.000000   1997.000000      0.000000   \n",
              "max       13.000000   9410.000000    4820.000000   2015.000000   2015.000000   \n",
              "\n",
              "            zipcode           lat          long  sqft_living15     sqft_lot15  \n",
              "count  21613.000000  21613.000000  21613.000000   21613.000000   21613.000000  \n",
              "mean   98077.939805     47.560053   -122.213896    1986.552492   12768.455652  \n",
              "std       53.505026      0.138564      0.140828     685.391304   27304.179631  \n",
              "min    98001.000000     47.155900   -122.519000     399.000000     651.000000  \n",
              "25%    98033.000000     47.471000   -122.328000    1490.000000    5100.000000  \n",
              "50%    98065.000000     47.571800   -122.230000    1840.000000    7620.000000  \n",
              "75%    98118.000000     47.678000   -122.125000    2360.000000   10083.000000  \n",
              "max    98199.000000     47.777600   -121.315000    6210.000000  871200.000000  "
            ]
          },
          "execution_count": 21,
          "metadata": {},
          "output_type": "execute_result"
        }
      ],
      "source": [
        "salesdata.describe()\n"
      ]
    },
    {
      "cell_type": "code",
      "execution_count": null,
      "id": "c721900e",
      "metadata": {
        "id": "c721900e",
        "outputId": "036a0f94-d0db-49d6-e3bd-8499e834bb37"
      },
      "outputs": [
        {
          "data": {
            "text/html": [
              "<div>\n",
              "<style scoped>\n",
              "    .dataframe tbody tr th:only-of-type {\n",
              "        vertical-align: middle;\n",
              "    }\n",
              "\n",
              "    .dataframe tbody tr th {\n",
              "        vertical-align: top;\n",
              "    }\n",
              "\n",
              "    .dataframe thead th {\n",
              "        text-align: right;\n",
              "    }\n",
              "</style>\n",
              "<table border=\"1\" class=\"dataframe\">\n",
              "  <thead>\n",
              "    <tr style=\"text-align: right;\">\n",
              "      <th></th>\n",
              "      <th>price</th>\n",
              "      <th>bedrooms</th>\n",
              "      <th>bathrooms</th>\n",
              "      <th>sqft_living</th>\n",
              "      <th>sqft_lot</th>\n",
              "      <th>yr_built</th>\n",
              "    </tr>\n",
              "  </thead>\n",
              "  <tbody>\n",
              "    <tr>\n",
              "      <th>0</th>\n",
              "      <td>221900.0</td>\n",
              "      <td>3.0</td>\n",
              "      <td>1.00</td>\n",
              "      <td>1180.0</td>\n",
              "      <td>5650.0</td>\n",
              "      <td>1955</td>\n",
              "    </tr>\n",
              "    <tr>\n",
              "      <th>1</th>\n",
              "      <td>538000.0</td>\n",
              "      <td>3.0</td>\n",
              "      <td>2.25</td>\n",
              "      <td>2570.0</td>\n",
              "      <td>7242.0</td>\n",
              "      <td>1951</td>\n",
              "    </tr>\n",
              "    <tr>\n",
              "      <th>2</th>\n",
              "      <td>180000.0</td>\n",
              "      <td>2.0</td>\n",
              "      <td>1.00</td>\n",
              "      <td>770.0</td>\n",
              "      <td>10000.0</td>\n",
              "      <td>1933</td>\n",
              "    </tr>\n",
              "    <tr>\n",
              "      <th>3</th>\n",
              "      <td>604000.0</td>\n",
              "      <td>4.0</td>\n",
              "      <td>3.00</td>\n",
              "      <td>1960.0</td>\n",
              "      <td>5000.0</td>\n",
              "      <td>1965</td>\n",
              "    </tr>\n",
              "    <tr>\n",
              "      <th>4</th>\n",
              "      <td>510000.0</td>\n",
              "      <td>3.0</td>\n",
              "      <td>2.00</td>\n",
              "      <td>1680.0</td>\n",
              "      <td>8080.0</td>\n",
              "      <td>1987</td>\n",
              "    </tr>\n",
              "  </tbody>\n",
              "</table>\n",
              "</div>"
            ],
            "text/plain": [
              "      price  bedrooms  bathrooms  sqft_living  sqft_lot  yr_built\n",
              "0  221900.0       3.0       1.00       1180.0    5650.0      1955\n",
              "1  538000.0       3.0       2.25       2570.0    7242.0      1951\n",
              "2  180000.0       2.0       1.00        770.0   10000.0      1933\n",
              "3  604000.0       4.0       3.00       1960.0    5000.0      1965\n",
              "4  510000.0       3.0       2.00       1680.0    8080.0      1987"
            ]
          },
          "execution_count": 22,
          "metadata": {},
          "output_type": "execute_result"
        }
      ],
      "source": [
        "subset = salesdata[['price', 'bedrooms', 'bathrooms', 'sqft_living', 'sqft_lot', 'yr_built']]\n",
        "subset.head()\n"
      ]
    },
    {
      "cell_type": "code",
      "execution_count": null,
      "id": "2f2e19a3",
      "metadata": {
        "id": "2f2e19a3",
        "outputId": "47b509cd-9dd6-4ae3-e28b-0a6cc3c0beaa"
      },
      "outputs": [
        {
          "data": {
            "text/plain": [
              "price          21613\n",
              "bedrooms       20479\n",
              "bathrooms      20545\n",
              "sqft_living    20503\n",
              "sqft_lot       20569\n",
              "yr_built       21613\n",
              "dtype: int64"
            ]
          },
          "execution_count": 23,
          "metadata": {},
          "output_type": "execute_result"
        }
      ],
      "source": [
        "subset.count()"
      ]
    },
    {
      "cell_type": "code",
      "execution_count": null,
      "id": "63c79d0f",
      "metadata": {
        "id": "63c79d0f",
        "outputId": "3b26d87e-f4c4-42ea-8946-9f7148305ba5"
      },
      "outputs": [
        {
          "data": {
            "text/html": [
              "<div>\n",
              "<style scoped>\n",
              "    .dataframe tbody tr th:only-of-type {\n",
              "        vertical-align: middle;\n",
              "    }\n",
              "\n",
              "    .dataframe tbody tr th {\n",
              "        vertical-align: top;\n",
              "    }\n",
              "\n",
              "    .dataframe thead th {\n",
              "        text-align: right;\n",
              "    }\n",
              "</style>\n",
              "<table border=\"1\" class=\"dataframe\">\n",
              "  <thead>\n",
              "    <tr style=\"text-align: right;\">\n",
              "      <th></th>\n",
              "      <th>price</th>\n",
              "      <th>bedrooms</th>\n",
              "      <th>bathrooms</th>\n",
              "      <th>sqft_living</th>\n",
              "      <th>sqft_lot</th>\n",
              "      <th>yr_built</th>\n",
              "    </tr>\n",
              "  </thead>\n",
              "  <tbody>\n",
              "    <tr>\n",
              "      <th>count</th>\n",
              "      <td>2.161300e+04</td>\n",
              "      <td>20479.000000</td>\n",
              "      <td>20545.000000</td>\n",
              "      <td>20503.000000</td>\n",
              "      <td>2.056900e+04</td>\n",
              "      <td>21613.000000</td>\n",
              "    </tr>\n",
              "    <tr>\n",
              "      <th>mean</th>\n",
              "      <td>5.400881e+05</td>\n",
              "      <td>3.372821</td>\n",
              "      <td>2.113507</td>\n",
              "      <td>2081.073697</td>\n",
              "      <td>1.517982e+04</td>\n",
              "      <td>1971.005136</td>\n",
              "    </tr>\n",
              "    <tr>\n",
              "      <th>std</th>\n",
              "      <td>3.671272e+05</td>\n",
              "      <td>0.930711</td>\n",
              "      <td>0.768913</td>\n",
              "      <td>915.043176</td>\n",
              "      <td>4.148617e+04</td>\n",
              "      <td>29.373411</td>\n",
              "    </tr>\n",
              "    <tr>\n",
              "      <th>min</th>\n",
              "      <td>7.500000e+04</td>\n",
              "      <td>0.000000</td>\n",
              "      <td>0.000000</td>\n",
              "      <td>290.000000</td>\n",
              "      <td>5.200000e+02</td>\n",
              "      <td>1900.000000</td>\n",
              "    </tr>\n",
              "    <tr>\n",
              "      <th>25%</th>\n",
              "      <td>3.219500e+05</td>\n",
              "      <td>3.000000</td>\n",
              "      <td>1.500000</td>\n",
              "      <td>1430.000000</td>\n",
              "      <td>5.040000e+03</td>\n",
              "      <td>1951.000000</td>\n",
              "    </tr>\n",
              "    <tr>\n",
              "      <th>50%</th>\n",
              "      <td>4.500000e+05</td>\n",
              "      <td>3.000000</td>\n",
              "      <td>2.250000</td>\n",
              "      <td>1920.000000</td>\n",
              "      <td>7.620000e+03</td>\n",
              "      <td>1975.000000</td>\n",
              "    </tr>\n",
              "    <tr>\n",
              "      <th>75%</th>\n",
              "      <td>6.450000e+05</td>\n",
              "      <td>4.000000</td>\n",
              "      <td>2.500000</td>\n",
              "      <td>2550.000000</td>\n",
              "      <td>1.070800e+04</td>\n",
              "      <td>1997.000000</td>\n",
              "    </tr>\n",
              "    <tr>\n",
              "      <th>max</th>\n",
              "      <td>7.700000e+06</td>\n",
              "      <td>33.000000</td>\n",
              "      <td>8.000000</td>\n",
              "      <td>12050.000000</td>\n",
              "      <td>1.651359e+06</td>\n",
              "      <td>2015.000000</td>\n",
              "    </tr>\n",
              "  </tbody>\n",
              "</table>\n",
              "</div>"
            ],
            "text/plain": [
              "              price      bedrooms     bathrooms   sqft_living      sqft_lot  \\\n",
              "count  2.161300e+04  20479.000000  20545.000000  20503.000000  2.056900e+04   \n",
              "mean   5.400881e+05      3.372821      2.113507   2081.073697  1.517982e+04   \n",
              "std    3.671272e+05      0.930711      0.768913    915.043176  4.148617e+04   \n",
              "min    7.500000e+04      0.000000      0.000000    290.000000  5.200000e+02   \n",
              "25%    3.219500e+05      3.000000      1.500000   1430.000000  5.040000e+03   \n",
              "50%    4.500000e+05      3.000000      2.250000   1920.000000  7.620000e+03   \n",
              "75%    6.450000e+05      4.000000      2.500000   2550.000000  1.070800e+04   \n",
              "max    7.700000e+06     33.000000      8.000000  12050.000000  1.651359e+06   \n",
              "\n",
              "           yr_built  \n",
              "count  21613.000000  \n",
              "mean    1971.005136  \n",
              "std       29.373411  \n",
              "min     1900.000000  \n",
              "25%     1951.000000  \n",
              "50%     1975.000000  \n",
              "75%     1997.000000  \n",
              "max     2015.000000  "
            ]
          },
          "execution_count": 24,
          "metadata": {},
          "output_type": "execute_result"
        }
      ],
      "source": [
        "subset.describe()"
      ]
    },
    {
      "cell_type": "code",
      "execution_count": null,
      "id": "4513b9b1",
      "metadata": {
        "id": "4513b9b1",
        "outputId": "e4477456-a361-4239-e17c-2363af5ad588"
      },
      "outputs": [
        {
          "name": "stdout",
          "output_type": "stream",
          "text": [
            "price             0\n",
            "bedrooms       1134\n",
            "bathrooms      1068\n",
            "sqft_living    1110\n",
            "sqft_lot       1044\n",
            "yr_built          0\n",
            "dtype: int64\n"
          ]
        }
      ],
      "source": [
        "### Viewing Null Values\n",
        "\n",
        "print(subset.isnull().sum())"
      ]
    },
    {
      "cell_type": "code",
      "execution_count": null,
      "id": "a1cc2754",
      "metadata": {
        "id": "a1cc2754",
        "outputId": "75d53821-e9e0-43aa-95d0-c49baa05d8ea"
      },
      "outputs": [
        {
          "name": "stdout",
          "output_type": "stream",
          "text": [
            "       price  bedrooms  bathrooms  sqft_living  sqft_lot  yr_built\n",
            "0      False     False      False        False     False     False\n",
            "1      False     False      False        False     False     False\n",
            "2      False     False      False        False     False     False\n",
            "3      False     False      False        False     False     False\n",
            "4      False     False      False        False     False     False\n",
            "...      ...       ...        ...          ...       ...       ...\n",
            "21608  False     False      False        False     False     False\n",
            "21609  False     False      False        False     False     False\n",
            "21610  False     False      False        False     False     False\n",
            "21611  False     False      False        False     False     False\n",
            "21612  False     False      False        False     False     False\n",
            "\n",
            "[21613 rows x 6 columns]\n"
          ]
        }
      ],
      "source": [
        "print(subset.isnull())"
      ]
    },
    {
      "cell_type": "code",
      "execution_count": null,
      "id": "13a0a120",
      "metadata": {
        "id": "13a0a120",
        "outputId": "00d536aa-729d-4f5d-f683-d058a0ce8c80"
      },
      "outputs": [
        {
          "name": "stdout",
          "output_type": "stream",
          "text": [
            "          price  bedrooms  bathrooms  sqft_living  sqft_lot  yr_built\n",
            "0      221900.0       3.0       1.00       1180.0    5650.0      1955\n",
            "1      538000.0       3.0       2.25       2570.0    7242.0      1951\n",
            "2      180000.0       2.0       1.00        770.0   10000.0      1933\n",
            "3      604000.0       4.0       3.00       1960.0    5000.0      1965\n",
            "4      510000.0       3.0       2.00       1680.0    8080.0      1987\n",
            "...         ...       ...        ...          ...       ...       ...\n",
            "21608  360000.0       3.0       2.50       1530.0    1131.0      2009\n",
            "21609  400000.0       4.0       2.50       2310.0    5813.0      2014\n",
            "21610  402101.0       2.0       0.75       1020.0    1350.0      2009\n",
            "21611  400000.0       3.0       2.50       1600.0    2388.0      2004\n",
            "21612  325000.0       2.0       0.75       1020.0    1076.0      2008\n",
            "\n",
            "[17618 rows x 6 columns]\n"
          ]
        }
      ],
      "source": [
        "### Removing Null data by Row \n",
        "data_clean = subset.dropna()\n",
        "print(data_clean)"
      ]
    },
    {
      "cell_type": "code",
      "execution_count": null,
      "id": "78593604",
      "metadata": {
        "id": "78593604",
        "outputId": "d0737ff5-2ae6-4588-cd72-a6ff12966b26"
      },
      "outputs": [
        {
          "name": "stdout",
          "output_type": "stream",
          "text": [
            "          price  bedrooms  bathrooms  sqft_living  sqft_lot  yr_built\n",
            "0      221900.0       3.0       1.00       1180.0    5650.0      1955\n",
            "1      538000.0       3.0       2.25       2570.0    7242.0      1951\n",
            "2      180000.0       2.0       1.00        770.0   10000.0      1933\n",
            "3      604000.0       4.0       3.00       1960.0    5000.0      1965\n",
            "4      510000.0       3.0       2.00       1680.0    8080.0      1987\n",
            "...         ...       ...        ...          ...       ...       ...\n",
            "21608  360000.0       3.0       2.50       1530.0    1131.0      2009\n",
            "21609  400000.0       4.0       2.50       2310.0    5813.0      2014\n",
            "21610  402101.0       2.0       0.75       1020.0    1350.0      2009\n",
            "21611  400000.0       3.0       2.50       1600.0    2388.0      2004\n",
            "21612  325000.0       2.0       0.75       1020.0    1076.0      2008\n",
            "\n",
            "[17613 rows x 6 columns]\n"
          ]
        }
      ],
      "source": [
        "### Remove duplicate rows\n",
        "data_clean2 = data_clean.drop_duplicates()\n",
        "print(data_clean2)"
      ]
    },
    {
      "cell_type": "code",
      "execution_count": null,
      "id": "3aa320f6",
      "metadata": {
        "scrolled": true,
        "id": "3aa320f6",
        "outputId": "860529c6-c534-4448-9e3c-d18f59310be0"
      },
      "outputs": [
        {
          "name": "stdout",
          "output_type": "stream",
          "text": [
            "3574\n",
            "12\n",
            "29\n",
            "950\n",
            "8530\n",
            "116\n"
          ]
        }
      ],
      "source": [
        "### Check the number of unique values in a column\n",
        "print(data_clean2['price'].nunique())\n",
        "print(data_clean2['bedrooms'].nunique())\n",
        "print(data_clean2['bathrooms'].nunique())\n",
        "print(data_clean2['sqft_living'].nunique())\n",
        "print(data_clean2['sqft_lot'].nunique())\n",
        "print(data_clean2['yr_built'].nunique())"
      ]
    },
    {
      "cell_type": "code",
      "execution_count": null,
      "id": "4ace157b",
      "metadata": {
        "id": "4ace157b"
      },
      "outputs": [],
      "source": [
        "### If the number of unique values in a column is large, the distribution of values is skewed, \n",
        "### or the granularity of the data is too fine-grained, you may need to aggregate the data. \n",
        "### Similarly, if the dataset is very large, aggregation may be necessary to reduce the size of the dataset\n",
        "### for easier analysis or visualization."
      ]
    },
    {
      "cell_type": "code",
      "execution_count": null,
      "id": "0cbff836",
      "metadata": {
        "id": "0cbff836",
        "outputId": "f98d9c7e-06fb-4501-a04f-d0a8ce232f7d"
      },
      "outputs": [
        {
          "name": "stdout",
          "output_type": "stream",
          "text": [
            "450000.0     143\n",
            "350000.0     135\n",
            "550000.0     126\n",
            "500000.0     125\n",
            "400000.0     122\n",
            "            ... \n",
            "2538000.0      1\n",
            "1445000.0      1\n",
            "738500.0       1\n",
            "507200.0       1\n",
            "402101.0       1\n",
            "Name: price, Length: 3574, dtype: int64\n",
            "3.0     7957\n",
            "4.0     5610\n",
            "2.0     2266\n",
            "5.0     1333\n",
            "6.0      233\n",
            "1.0      158\n",
            "7.0       29\n",
            "8.0       10\n",
            "0.0        9\n",
            "9.0        4\n",
            "10.0       3\n",
            "33.0       1\n",
            "Name: bedrooms, dtype: int64\n",
            "2.50    4406\n",
            "1.00    3146\n",
            "1.75    2475\n",
            "2.25    1680\n",
            "2.00    1569\n",
            "1.50    1176\n",
            "2.75     946\n",
            "3.00     616\n",
            "3.50     582\n",
            "3.25     476\n",
            "3.75     135\n",
            "4.00     109\n",
            "4.50      79\n",
            "4.25      67\n",
            "0.75      60\n",
            "4.75      23\n",
            "5.00      17\n",
            "5.25      10\n",
            "5.50      10\n",
            "1.25       7\n",
            "0.00       6\n",
            "6.00       5\n",
            "0.50       4\n",
            "6.25       2\n",
            "5.75       2\n",
            "6.50       2\n",
            "8.00       1\n",
            "6.75       1\n",
            "7.50       1\n",
            "Name: bathrooms, dtype: int64\n",
            "1300.0    117\n",
            "1400.0    113\n",
            "1440.0    112\n",
            "1800.0    110\n",
            "1010.0    107\n",
            "         ... \n",
            "5844.0      1\n",
            "2507.0      1\n",
            "4530.0      1\n",
            "5720.0      1\n",
            "1425.0      1\n",
            "Name: sqft_living, Length: 950, dtype: int64\n",
            "5000.0     296\n",
            "6000.0     236\n",
            "4000.0     202\n",
            "7200.0     176\n",
            "7500.0     100\n",
            "          ... \n",
            "2731.0       1\n",
            "20553.0      1\n",
            "39586.0      1\n",
            "20001.0      1\n",
            "1076.0       1\n",
            "Name: sqft_lot, Length: 8530, dtype: int64\n",
            "2014    453\n",
            "2006    370\n",
            "2005    363\n",
            "2004    357\n",
            "2003    346\n",
            "       ... \n",
            "1933     24\n",
            "1902     22\n",
            "1935     20\n",
            "1901     20\n",
            "1934     19\n",
            "Name: yr_built, Length: 116, dtype: int64\n"
          ]
        }
      ],
      "source": [
        "### Check the distribution of values in a column\n",
        "print(data_clean2['price'].value_counts())\n",
        "print(data_clean2['bedrooms'].value_counts())\n",
        "print(data_clean2['bathrooms'].value_counts())\n",
        "print(data_clean2['sqft_living'].value_counts())\n",
        "print(data_clean2['sqft_lot'].value_counts())\n",
        "print(data_clean2['yr_built'].value_counts())"
      ]
    },
    {
      "cell_type": "code",
      "execution_count": null,
      "id": "29b7bdd2",
      "metadata": {
        "id": "29b7bdd2",
        "outputId": "e6cc6aa6-2333-4338-e537-a2cff8245d6d"
      },
      "outputs": [
        {
          "name": "stdout",
          "output_type": "stream",
          "text": [
            "(17613, 6)\n"
          ]
        }
      ],
      "source": [
        "# Check the size of the dataset\n",
        "print(data_clean2.shape)"
      ]
    },
    {
      "cell_type": "code",
      "execution_count": null,
      "id": "6fc759df",
      "metadata": {
        "id": "6fc759df",
        "outputId": "4d8ae710-41b9-41b5-8c31-2a798192be35"
      },
      "outputs": [
        {
          "name": "stdout",
          "output_type": "stream",
          "text": [
            "75000.0 7700000.0\n",
            "0.0 33.0\n",
            "0.0 8.0\n",
            "370.0 12050.0\n",
            "520.0 1651359.0\n",
            "1900 2015\n"
          ]
        }
      ],
      "source": [
        "# Check the granularity of the data\n",
        "print(data_clean2['price'].min(), data_clean2['price'].max())\n",
        "print(data_clean2['bedrooms'].min(), data_clean2['bedrooms'].max())\n",
        "print(data_clean2['bathrooms'].min(), data_clean2['bathrooms'].max())\n",
        "print(data_clean2['sqft_living'].min(), data_clean2['sqft_living'].max())\n",
        "print(data_clean2['sqft_lot'].min(), data_clean2['sqft_lot'].max())\n",
        "print(data_clean2['yr_built'].min(), data_clean2['yr_built'].max())"
      ]
    },
    {
      "cell_type": "code",
      "execution_count": null,
      "id": "69c0d256",
      "metadata": {
        "id": "69c0d256",
        "outputId": "ee52d773-28c4-4362-9a23-05542e0c6dfb"
      },
      "outputs": [
        {
          "name": "stdout",
          "output_type": "stream",
          "text": [
            "Test statistic: [100.56452752  76.87313671  25.22841986  58.08888556 154.74157168\n",
            " -23.56898598], p-value: [0.00000000e+000 0.00000000e+000 1.95423988e-140 0.00000000e+000\n",
            " 0.00000000e+000 8.01970093e-123]\n"
          ]
        }
      ],
      "source": [
        "# Perform the skewness test - dataset\n",
        "\n",
        "### Skewness test from SciPy:\n",
        "### The skewtest() function in the SciPy library can be used to perform a skewness test on a sample distribution. \n",
        "### The test returns a test statistic and a p-value. If the p-value is less than a chosen level of significance (e.g., 0.05), \n",
        "### then the null hypothesis (i.e., the distribution is symmetric) can be rejected in favor of the alternative hypothesis\n",
        "### (i.e., the distribution is skewed).\n",
        "\n",
        "test_stat, p_value = skewtest(data_clean2)\n",
        "print(f\"Test statistic: {test_stat}, p-value: {p_value}\")"
      ]
    },
    {
      "cell_type": "code",
      "execution_count": null,
      "id": "f319027e",
      "metadata": {
        "id": "f319027e",
        "outputId": "b2ed48ef-708d-4b84-891d-8f1aa76dbe24"
      },
      "outputs": [
        {
          "name": "stdout",
          "output_type": "stream",
          "text": [
            "Skewness_price: 3.915629038266485\n"
          ]
        }
      ],
      "source": [
        "### Calculate the skewness of a column\n",
        "### Skewness from Pandas:\n",
        "### The skew() function in Pandas can be used to calculate the skewness of a sample distribution. The function returns a value \n",
        "### that indicates the degree of skewness. If the value is positive, the distribution is skewed to the right (i.e., it has a \n",
        "### long right tail). If the value is negative, the distribution is skewed to the left (i.e., it has a long left tail). If the \n",
        "### value is close to zero, the distribution is approximately symmetric.\n",
        "\n",
        "skewness_price = data_clean2['price'].skew()\n",
        "\n",
        "print(f\"Skewness_price: {skewness_price}\")"
      ]
    },
    {
      "cell_type": "code",
      "execution_count": null,
      "id": "fdbb59ef",
      "metadata": {
        "id": "fdbb59ef",
        "outputId": "0804798b-69fa-49a8-ffbf-b0a99374cc70"
      },
      "outputs": [
        {
          "name": "stdout",
          "output_type": "stream",
          "text": [
            "Skewness_price: 3.915629038266485\n",
            "The distribution is skewed to the right\n"
          ]
        }
      ],
      "source": [
        "skewness_price = data_clean2['price'].skew()\n",
        "print(f\"Skewness_price: {skewness_price}\")\n",
        "if skewness_price > 0:\n",
        "    print(\"The distribution is skewed to the right\")\n",
        "elif skewness_price < 0:\n",
        "    print(\"The distribution is skewed to the left\")\n",
        "else:\n",
        "    print(\"The distribution is approximately symmetric\")"
      ]
    },
    {
      "cell_type": "code",
      "execution_count": null,
      "id": "b5dc8cf7",
      "metadata": {
        "id": "b5dc8cf7",
        "outputId": "34649a8e-6e69-407f-ed9e-87f9b9d9b77c"
      },
      "outputs": [
        {
          "name": "stdout",
          "output_type": "stream",
          "text": [
            "Skewness_bedrooms: 2.2460167958657054\n",
            "The distribution is skewed to the right\n"
          ]
        }
      ],
      "source": [
        "skewness_bedrooms = data_clean2['bedrooms'].skew()\n",
        "print(f\"Skewness_bedrooms: {skewness_bedrooms}\")\n",
        "if skewness_bedrooms > 0:\n",
        "    print(\"The distribution is skewed to the right\")\n",
        "elif skewness_bedrooms < 0:\n",
        "    print(\"The distribution is skewed to the left\")\n",
        "else:\n",
        "    print(\"The distribution is approximately symmetric\")"
      ]
    },
    {
      "cell_type": "code",
      "execution_count": null,
      "id": "ff85919f",
      "metadata": {
        "id": "ff85919f",
        "outputId": "92d2cd58-318f-4a6d-8573-077b933df475"
      },
      "outputs": [
        {
          "name": "stdout",
          "output_type": "stream",
          "text": [
            "Skewness_bathrooms: 0.4910696731390806\n",
            "The distribution is skewed to the right\n"
          ]
        }
      ],
      "source": [
        "skewness_bathrooms = data_clean2['bathrooms'].skew()\n",
        "print(f\"Skewness_bathrooms: {skewness_bathrooms}\")\n",
        "if skewness_bathrooms > 0:\n",
        "    print(\"The distribution is skewed to the right\")\n",
        "elif skewness_bathrooms < 0:\n",
        "    print(\"The distribution is skewed to the left\")\n",
        "else:\n",
        "    print(\"The distribution is approximately symmetric\")"
      ]
    },
    {
      "cell_type": "code",
      "execution_count": null,
      "id": "d6655df2",
      "metadata": {
        "id": "d6655df2",
        "outputId": "8aac85af-2ab1-4deb-ef7c-c1db83eee02a"
      },
      "outputs": [
        {
          "name": "stdout",
          "output_type": "stream",
          "text": [
            "Skewness_sqftliving: 1.4066700662250347\n",
            "The distribution is skewed to the right\n"
          ]
        }
      ],
      "source": [
        "skewness_sqftliving = data_clean2['sqft_living'].skew()\n",
        "print(f\"Skewness_sqftliving: {skewness_sqftliving}\")\n",
        "if skewness_sqftliving > 0:\n",
        "    print(\"The distribution is skewed to the right\")\n",
        "elif skewness_sqftliving < 0:\n",
        "    print(\"The distribution is skewed to the left\")\n",
        "else:\n",
        "    print(\"The distribution is approximately symmetric\")"
      ]
    },
    {
      "cell_type": "code",
      "execution_count": null,
      "id": "997bf018",
      "metadata": {
        "id": "997bf018",
        "outputId": "a2070eaa-cbcc-42ca-e1e9-33b83f82a403"
      },
      "outputs": [
        {
          "name": "stdout",
          "output_type": "stream",
          "text": [
            "Skewness_sqftlot: 13.438663679546263\n",
            "The distribution is skewed to the right\n"
          ]
        }
      ],
      "source": [
        "skewness_sqftlot = data_clean2['sqft_lot'].skew()\n",
        "print(f\"Skewness_sqftlot: {skewness_sqftlot}\")\n",
        "if skewness_sqftlot > 0:\n",
        "    print(\"The distribution is skewed to the right\")\n",
        "elif skewness_sqftlot < 0:\n",
        "    print(\"The distribution is skewed to the left\")\n",
        "else:\n",
        "    print(\"The distribution is approximately symmetric\")"
      ]
    },
    {
      "cell_type": "code",
      "execution_count": null,
      "id": "cf08bcdb",
      "metadata": {
        "id": "cf08bcdb",
        "outputId": "a3d60ab7-1ce8-4b71-cdff-5e688f5438a6"
      },
      "outputs": [
        {
          "name": "stdout",
          "output_type": "stream",
          "text": [
            "Skewness_yrbuilt: -0.4556843972442967\n",
            "The distribution is skewed to the left\n"
          ]
        }
      ],
      "source": [
        "skewness_yrbuilt = data_clean2['yr_built'].skew()\n",
        "print(f\"Skewness_yrbuilt: {skewness_yrbuilt}\")\n",
        "if skewness_yrbuilt > 0:\n",
        "    print(\"The distribution is skewed to the right\")\n",
        "elif skewness_yrbuilt < 0:\n",
        "    print(\"The distribution is skewed to the left\")\n",
        "else:\n",
        "    print(\"The distribution is approximately symmetric\")"
      ]
    },
    {
      "cell_type": "code",
      "execution_count": null,
      "id": "6fa06375",
      "metadata": {
        "scrolled": true,
        "id": "6fa06375",
        "outputId": "708ddba3-bcd6-452f-970c-7e014380ad9d"
      },
      "outputs": [
        {
          "data": {
            "image/png": "[encoded data removed]",
            "text/plain": [
              "<Figure size 640x480 with 1 Axes>"
            ]
          },
          "metadata": {},
          "output_type": "display_data"
        }
      ],
      "source": [
        "# Create a box plot\n",
        "\n",
        "fig, ax = plt.subplots()\n",
        "ax.boxplot(data_clean2)\n",
        "ax.set_xlabel('Variable')\n",
        "ax.set_ylabel('Value')\n",
        "ax.set_title('Box Plot')\n",
        "plt.show()"
      ]
    },
    {
      "cell_type": "code",
      "execution_count": null,
      "id": "745a23ae",
      "metadata": {
        "id": "745a23ae"
      },
      "outputs": [],
      "source": [
        "### Home proce and sqft_lot have many outliers. "
      ]
    },
    {
      "cell_type": "code",
      "execution_count": null,
      "id": "03b030ef",
      "metadata": {
        "id": "03b030ef"
      },
      "outputs": [],
      "source": [
        "### Normalization is the process of scaling numeric data to a common range. It is a common preprocessing step in machine \n",
        "### learning to improve the performance of models that use distance-based measures.\n",
        "### In Python, you can perform normalization using various libraries such as Scikit-learn, NumPy, and Pandas."
      ]
    },
    {
      "cell_type": "code",
      "execution_count": null,
      "id": "637f97f8",
      "metadata": {
        "id": "637f97f8",
        "outputId": "0f7deb2f-cf90-4257-913b-686cf97da7d5"
      },
      "outputs": [
        {
          "name": "stdout",
          "output_type": "stream",
          "text": [
            "[[1.92655738e-02 9.09090909e-02 1.25000000e-01 6.93493151e-02\n",
            "  3.10751079e-03 4.78260870e-01]\n",
            " [6.07213115e-02 9.09090909e-02 2.81250000e-01 1.88356164e-01\n",
            "  4.07186891e-03 4.43478261e-01]\n",
            " [1.37704918e-02 6.06060606e-02 1.25000000e-01 3.42465753e-02\n",
            "  5.74253455e-03 2.86956522e-01]\n",
            " ...\n",
            " [4.28984918e-02 6.06060606e-02 9.37500000e-02 5.56506849e-02\n",
            "  5.02774650e-04 9.47826087e-01]\n",
            " [4.26229508e-02 9.09090909e-02 3.12500000e-01 1.05308219e-01\n",
            "  1.13154584e-03 9.04347826e-01]\n",
            " [3.27868852e-02 6.06060606e-02 9.37500000e-02 5.56506849e-02\n",
            "  3.36798440e-04 9.39130435e-01]]\n"
          ]
        }
      ],
      "source": [
        "# Create a MinMaxScaler object\n",
        "scaler = MinMaxScaler()\n",
        "normalized_data = scaler.fit_transform(data_clean2)\n",
        "print(normalized_data)"
      ]
    },
    {
      "cell_type": "code",
      "execution_count": null,
      "id": "322624d3",
      "metadata": {
        "id": "322624d3",
        "outputId": "fa8e673b-a278-4f53-c32d-856431af329f"
      },
      "outputs": [
        {
          "data": {
            "image/png": "[encoded data removed]",
            "text/plain": [
              "<Figure size 640x480 with 1 Axes>"
            ]
          },
          "metadata": {},
          "output_type": "display_data"
        }
      ],
      "source": [
        "# Create a box plot of Normalized Data\n",
        "\n",
        "fig, ax = plt.subplots()\n",
        "ax.boxplot(normalized_data)\n",
        "ax.set_xlabel('Variable')\n",
        "ax.set_ylabel('Value')\n",
        "ax.set_title('Box Plot')\n",
        "plt.show()"
      ]
    },
    {
      "cell_type": "code",
      "execution_count": null,
      "id": "9710b3fd",
      "metadata": {
        "id": "9710b3fd"
      },
      "outputs": [],
      "source": []
    }
  ],
  "metadata": {
    "kernelspec": {
      "display_name": "Python 3.8.10 - rstudio",
      "language": "python",
      "name": "rstudio-user-3.8.10"
    },
    "language_info": {
      "codemirror_mode": {
        "name": "ipython",
        "version": 3
      },
      "file_extension": ".py",
      "mimetype": "text/x-python",
      "name": "python",
      "nbconvert_exporter": "python",
      "pygments_lexer": "ipython3",
      "version": "3.8.10"
    },
    "colab": {
      "provenance": [],
      "include_colab_link": true
    }
  },
  "nbformat": 4,
  "nbformat_minor": 5
}